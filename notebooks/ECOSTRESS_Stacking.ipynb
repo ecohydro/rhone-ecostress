{
 "cells": [
  {
   "cell_type": "markdown",
   "metadata": {},
   "source": [
    "# Defining the aoi"
   ]
  },
  {
   "cell_type": "code",
   "execution_count": 1,
   "metadata": {},
   "outputs": [],
   "source": [
    "import pandas as pd\n",
    "import numpy as np\n",
    "import xarray as xa\n",
    "from pathlib import Path\n",
    "import src.data.ecostress_io as eio\n",
    "import rioxarray\n",
    "import sys\n",
    "import geopandas as gpd\n",
    "import json\n",
    "import dask\n",
    "from dask.distributed import Client\n",
    "\n",
    "n_partitions = 8\n",
    "root_path = Path(\"/mnt/ecostress/rhone-ecostress-data/\")\n",
    "\n",
    "with open(f\"{root_path}/geo-countries/archive/countries.geojson\", \"rb\") as f:\n",
    "    all_countries_geojson = json.loads(f.read())\n",
    "\n",
    "\n",
    "for i in all_countries_geojson['features']:\n",
    "    if i['properties']['ADMIN'] == \"France\":\n",
    "        france_geo = i\n",
    "\n",
    "\n",
    "france_gdf = gpd.GeoDataFrame.from_features([france_geo]).explode()\n",
    "\n",
    "france_gdf[france_gdf.area==max(france_gdf.area)].plot()\n",
    "\n",
    "aoi = france_gdf[france_gdf.area==max(france_gdf.area)]\n",
    "\n",
    "aoi_geojson = json.loads(aoi.to_json())\n",
    "\n",
    "xmin, ymin, xmax, ymax = aoi.total_bounds\n",
    "bounds_tuple = (4, 42, 7, 47)\n",
    "xmin, ymin, xmax, ymax = bounds_tuple  # hardcoding since concattenating 1000s of ecostress files with different overlaps hangs"
   ]
  },
  {
   "cell_type": "markdown",
   "metadata": {},
   "source": [
    "# Global rivers dataset"
   ]
  },
  {
   "cell_type": "code",
   "execution_count": 2,
   "metadata": {},
   "outputs": [],
   "source": [
    "rivers_df = gpd.read_file(Path(root_path, \"europe_rivers/eu_river.shp\"))\n",
    "\n",
    "rivers_df['R_ID'] = rivers_df['R_ID'].apply(int).apply(str)\n",
    "\n",
    "france_rivers_df = rivers_df.cx[xmin:xmax, ymin:ymax]\n",
    "\n",
    "aoi.crs = france_rivers_df.crs # setting crs for aoi"
   ]
  },
  {
   "cell_type": "markdown",
   "metadata": {},
   "source": [
    "### Check to make sure they overlay, geopandas has poor support for linestrings so we subset by the bounding box"
   ]
  },
  {
   "cell_type": "code",
   "execution_count": 3,
   "metadata": {},
   "outputs": [
    {
     "data": {
      "text/plain": [
       "<matplotlib.axes._subplots.AxesSubplot at 0x7f5f355f7320>"
      ]
     },
     "execution_count": 3,
     "metadata": {},
     "output_type": "execute_result"
    },
    {
     "data": {
      "image/png": "[encoded data removed]",
      "text/plain": [
       "<Figure size 432x288 with 1 Axes>"
      ]
     },
     "metadata": {
      "needs_background": "light"
     },
     "output_type": "display_data"
    }
   ],
   "source": [
    "base = aoi.plot(color=\"grey\", edgecolor=\"black\")\n",
    "\n",
    "france_rivers_df.plot(ax=base, color=\"blue\")"
   ]
  },
  {
   "cell_type": "markdown",
   "metadata": {},
   "source": [
    "## reading in paths and example data array"
   ]
  },
  {
   "cell_type": "code",
   "execution_count": 4,
   "metadata": {},
   "outputs": [],
   "source": [
    "qa_path = Path(root_path, \"ECO3ANCQA\")\n",
    "et_path = Path(root_path, \"ECO3ETPTJPL\")\n",
    "esi_path = Path(root_path, \"ECO4ESIPTJPL\")\n",
    "\n",
    "whole_tif_qa_paths, csv_qa_paths, xml_qa_paths = eio.separate_extensions(qa_path)\n",
    "\n",
    "whole_tif_etdaily_paths, csv_et_paths, xml_et_paths = eio.separate_extensions(et_path, \"*ETdaily*.tif\")"
   ]
  },
  {
   "cell_type": "markdown",
   "metadata": {},
   "source": [
    "Clipping all et tifs, takes about 10 min with threading. "
   ]
  },
  {
   "cell_type": "code",
   "execution_count": 5,
   "metadata": {},
   "outputs": [],
   "source": [
    "tempdir = Path(\"/home/ryan/work/tmp\")\n",
    "\n",
    "clipped_scene_paths = [Path(p) for p in tempdir.glob(\"*clipped*\")]\n",
    "\n",
    "if clipped_scene_paths == []:\n",
    "    client = Client()\n",
    "    \n",
    "    batches = eio.batches_from(whole_tif_etdaily_paths, 8)\n",
    "    \n",
    "    batch_results = []\n",
    "    \n",
    "    for batch in batches:\n",
    "    \n",
    "        batch_result = dask.delayed(eio.clip_and_save)(batch, bounds_tuple, filter_nan = True, outDir=tempdir)\n",
    "        batch_results.append(batch_result)\n",
    "        \n",
    "    result_futures = client.compute(batch_results, scheduler='processes')\n",
    "\n",
    "    clipped_scene_paths = [i.result() for i in result_futures if i.result()]# gets rid of None that denotes too little scene overlap\n",
    "\n",
    "    client.restart()\n",
    "    "
   ]
  },
  {
   "cell_type": "code",
   "execution_count": 6,
   "metadata": {},
   "outputs": [
    {
     "name": "stderr",
     "output_type": "stream",
     "text": [
      "/data/anaconda/envs/geo/lib/python3.6/site-packages/ipykernel_launcher.py:4: SettingWithCopyWarning: \n",
      "A value is trying to be set on a copy of a slice from a DataFrame.\n",
      "Try using .loc[row_indexer,col_indexer] = value instead\n",
      "\n",
      "See the caveats in the documentation: http://pandas.pydata.org/pandas-docs/stable/user_guide/indexing.html#returning-a-view-versus-a-copy\n",
      "  after removing the cwd from sys.path.\n"
     ]
    }
   ],
   "source": [
    "buffered_france_rivers_df = france_rivers_df.to_crs(epsg=2154)\\\n",
    "                                            .buffer(5000)\\\n",
    "                                            .to_crs(epsg=4326) # buffers by 5000 meters\n",
    "france_rivers_df['geometry'] = buffered_france_rivers_df"
   ]
  },
  {
   "cell_type": "code",
   "execution_count": 7,
   "metadata": {},
   "outputs": [],
   "source": [
    "resolution = eio.read_ecostress_scene(clipped_scene_paths[0]).rio.resolution()\n",
    "crs = france_rivers_df.crs\n",
    "aoi_grid = eio.gdf_to_dataarray(france_rivers_df, crs, resolution)"
   ]
  },
  {
   "cell_type": "code",
   "execution_count": 8,
   "metadata": {},
   "outputs": [],
   "source": [
    "resampled_scene_paths = [Path(p) for p in tempdir.glob(\"*resampled*\")]\n",
    "\n",
    "if resampled_scene_paths == []:\n",
    "    client = Client()\n",
    "    batches = eio.batches_from(resampled_scene_paths, n_partitions)\n",
    "\n",
    "    def wrapper(paths, aoi_grid, tempdir, path_id):\n",
    "        return_paths = []\n",
    "        for path in paths:\n",
    "            x = eio.read_mask_ecostress_scene(path)\n",
    "            y = eio.resample_xarray_to_basis(x, aoi_grid)\n",
    "            return_paths.append(eio.write_tmp(y, tempdir, path_id))\n",
    "        return return_paths\n",
    "\n",
    "    all_results = []\n",
    "    for batch in batches:\n",
    "        sub_result = dask.delayed(wrapper)(batch, aoi_grid, tempdir, \"resampled\")\n",
    "        all_results.append(sub_result)\n",
    "        \n",
    "    result_future = client.compute(all_results, scheduler=\"processes\")\n",
    "    \n",
    "    resampled_scene_paths = [i.result() for i in result_future]\n",
    "    \n",
    "    client.restart()"
   ]
  },
  {
   "cell_type": "code",
   "execution_count": 9,
   "metadata": {},
   "outputs": [
    {
     "data": {
      "text/plain": [
       "[PosixPath('/home/ryan/work/tmp/ECO3ETPTJPL001_EVAPOTRANSPIRATION_PT_JPL_ETdaily_doy2019240051431_aid0001-clipped-resampled.tif'),\n",
       " PosixPath('/home/ryan/work/tmp/ECO3ETPTJPL001_EVAPOTRANSPIRATION_PT_JPL_ETdaily_doy2019028163510_aid0001-clipped-resampled.tif'),\n",
       " PosixPath('/home/ryan/work/tmp/ECO3ETPTJPL001_EVAPOTRANSPIRATION_PT_JPL_ETdaily_doy2019178053154_aid0001-clipped-resampled.tif'),\n",
       " PosixPath('/home/ryan/work/tmp/ECO3ETPTJPL001_EVAPOTRANSPIRATION_PT_JPL_ETdaily_doy2019047144937_aid0001-clipped-resampled.tif'),\n",
       " PosixPath('/home/ryan/work/tmp/ECO3ETPTJPL001_EVAPOTRANSPIRATION_PT_JPL_ETdaily_doy2018239112622_aid0001-clipped-resampled.tif'),\n",
       " PosixPath('/home/ryan/work/tmp/ECO3ETPTJPL001_EVAPOTRANSPIRATION_PT_JPL_ETdaily_doy2019164103828_aid0001-clipped-resampled.tif'),\n",
       " PosixPath('/home/ryan/work/tmp/ECO3ETPTJPL001_EVAPOTRANSPIRATION_PT_JPL_ETdaily_doy2018239112530_aid0001-clipped-resampled.tif'),\n",
       " PosixPath('/home/ryan/work/tmp/ECO3ETPTJPL001_EVAPOTRANSPIRATION_PT_JPL_ETdaily_doy2019177062102_aid0001-clipped-resampled.tif'),\n",
       " PosixPath('/home/ryan/work/tmp/ECO3ETPTJPL001_EVAPOTRANSPIRATION_PT_JPL_ETdaily_doy2018227103221_aid0001-clipped-resampled.tif'),\n",
       " PosixPath('/home/ryan/work/tmp/ECO3ETPTJPL001_EVAPOTRANSPIRATION_PT_JPL_ETdaily_doy2018222180613_aid0001-clipped-resampled.tif'),\n",
       " PosixPath('/home/ryan/work/tmp/ECO3ETPTJPL001_EVAPOTRANSPIRATION_PT_JPL_ETdaily_doy2018250064302_aid0001-clipped-resampled.tif'),\n",
       " PosixPath('/home/ryan/work/tmp/ECO3ETPTJPL001_EVAPOTRANSPIRATION_PT_JPL_ETdaily_doy2019058101314_aid0001-clipped-resampled.tif'),\n",
       " PosixPath('/home/ryan/work/tmp/ECO3ETPTJPL001_EVAPOTRANSPIRATION_PT_JPL_ETdaily_doy2019049130533_aid0001-clipped-resampled.tif'),\n",
       " PosixPath('/home/ryan/work/tmp/ECO3ETPTJPL001_EVAPOTRANSPIRATION_PT_JPL_ETdaily_doy2018250064210_aid0001-clipped-resampled.tif'),\n",
       " PosixPath('/home/ryan/work/tmp/ECO3ETPTJPL001_EVAPOTRANSPIRATION_PT_JPL_ETdaily_doy2018223171436_aid0001-clipped-resampled.tif'),\n",
       " PosixPath('/home/ryan/work/tmp/ECO3ETPTJPL001_EVAPOTRANSPIRATION_PT_JPL_ETdaily_doy2018216151437_aid0001-clipped-resampled.tif'),\n",
       " PosixPath('/home/ryan/work/tmp/ECO3ETPTJPL001_EVAPOTRANSPIRATION_PT_JPL_ETdaily_doy2018236122517_aid0001-clipped-resampled.tif'),\n",
       " PosixPath('/home/ryan/work/tmp/ECO3ETPTJPL001_EVAPOTRANSPIRATION_PT_JPL_ETdaily_doy2018214165832_aid0001-clipped-resampled.tif'),\n",
       " PosixPath('/home/ryan/work/tmp/ECO3ETPTJPL001_EVAPOTRANSPIRATION_PT_JPL_ETdaily_doy2019207174500_aid0001-clipped-resampled.tif'),\n",
       " PosixPath('/home/ryan/work/tmp/ECO3ETPTJPL001_EVAPOTRANSPIRATION_PT_JPL_ETdaily_doy2018240054242_aid0001-clipped-resampled.tif'),\n",
       " PosixPath('/home/ryan/work/tmp/ECO3ETPTJPL001_EVAPOTRANSPIRATION_PT_JPL_ETdaily_doy2018240103302_aid0001-clipped-resampled.tif'),\n",
       " PosixPath('/home/ryan/work/tmp/ECO3ETPTJPL001_EVAPOTRANSPIRATION_PT_JPL_ETdaily_doy2019218133122_aid0001-clipped-resampled.tif'),\n",
       " PosixPath('/home/ryan/work/tmp/ECO3ETPTJPL001_EVAPOTRANSPIRATION_PT_JPL_ETdaily_doy2019183075141_aid0001-clipped-resampled.tif'),\n",
       " PosixPath('/home/ryan/work/tmp/ECO3ETPTJPL001_EVAPOTRANSPIRATION_PT_JPL_ETdaily_doy2019170085432_aid0001-clipped-resampled.tif'),\n",
       " PosixPath('/home/ryan/work/tmp/ECO3ETPTJPL001_EVAPOTRANSPIRATION_PT_JPL_ETdaily_doy2019163112722_aid0001-clipped-resampled.tif'),\n",
       " PosixPath('/home/ryan/work/tmp/ECO3ETPTJPL001_EVAPOTRANSPIRATION_PT_JPL_ETdaily_doy2019159130836_aid0001-clipped-resampled.tif'),\n",
       " PosixPath('/home/ryan/work/tmp/ECO3ETPTJPL001_EVAPOTRANSPIRATION_PT_JPL_ETdaily_doy2019210165235_aid0001-clipped-resampled.tif'),\n",
       " PosixPath('/home/ryan/work/tmp/ECO3ETPTJPL001_EVAPOTRANSPIRATION_PT_JPL_ETdaily_doy2018222131552_aid0001-clipped-resampled.tif'),\n",
       " PosixPath('/home/ryan/work/tmp/ECO3ETPTJPL001_EVAPOTRANSPIRATION_PT_JPL_ETdaily_doy2019048135709_aid0001-clipped-resampled.tif'),\n",
       " PosixPath('/home/ryan/work/tmp/ECO3ETPTJPL001_EVAPOTRANSPIRATION_PT_JPL_ETdaily_doy2018252063602_aid0001-clipped-resampled.tif'),\n",
       " PosixPath('/home/ryan/work/tmp/ECO3ETPTJPL001_EVAPOTRANSPIRATION_PT_JPL_ETdaily_doy2019180052907_aid0001-clipped-resampled.tif'),\n",
       " PosixPath('/home/ryan/work/tmp/ECO3ETPTJPL001_EVAPOTRANSPIRATION_PT_JPL_ETdaily_doy2019156140052_aid0001-clipped-resampled.tif'),\n",
       " PosixPath('/home/ryan/work/tmp/ECO3ETPTJPL001_EVAPOTRANSPIRATION_PT_JPL_ETdaily_doy2018233132423_aid0001-clipped-resampled.tif'),\n",
       " PosixPath('/home/ryan/work/tmp/ECO3ETPTJPL001_EVAPOTRANSPIRATION_PT_JPL_ETdaily_doy2019289094120_aid0001-clipped-resampled.tif'),\n",
       " PosixPath('/home/ryan/work/tmp/ECO3ETPTJPL001_EVAPOTRANSPIRATION_PT_JPL_ETdaily_doy2018238072646_aid0001-clipped-resampled.tif'),\n",
       " PosixPath('/home/ryan/work/tmp/ECO3ETPTJPL001_EVAPOTRANSPIRATION_PT_JPL_ETdaily_doy2018212170504_aid0001-clipped-resampled.tif'),\n",
       " PosixPath('/home/ryan/work/tmp/ECO3ETPTJPL001_EVAPOTRANSPIRATION_PT_JPL_ETdaily_doy2018226161508_aid0001-clipped-resampled.tif'),\n",
       " PosixPath('/home/ryan/work/tmp/ECO3ETPTJPL001_EVAPOTRANSPIRATION_PT_JPL_ETdaily_doy2019064082109_aid0001-clipped-resampled.tif'),\n",
       " PosixPath('/home/ryan/work/tmp/ECO3ETPTJPL001_EVAPOTRANSPIRATION_PT_JPL_ETdaily_doy2018247074230_aid0001-clipped-resampled.tif'),\n",
       " PosixPath('/home/ryan/work/tmp/ECO3ETPTJPL001_EVAPOTRANSPIRATION_PT_JPL_ETdaily_doy2019275143430_aid0001-clipped-resampled.tif'),\n",
       " PosixPath('/home/ryan/work/tmp/ECO3ETPTJPL001_EVAPOTRANSPIRATION_PT_JPL_ETdaily_doy2019159130928_aid0001-clipped-resampled.tif'),\n",
       " PosixPath('/home/ryan/work/tmp/ECO3ETPTJPL001_EVAPOTRANSPIRATION_PT_JPL_ETdaily_doy2018222180704_aid0001-clipped-resampled.tif'),\n",
       " PosixPath('/home/ryan/work/tmp/ECO3ETPTJPL001_EVAPOTRANSPIRATION_PT_JPL_ETdaily_doy2019044154630_aid0001-clipped-resampled.tif'),\n",
       " PosixPath('/home/ryan/work/tmp/ECO3ETPTJPL001_EVAPOTRANSPIRATION_PT_JPL_ETdaily_doy2018237064209_aid0001-clipped-resampled.tif'),\n",
       " PosixPath('/home/ryan/work/tmp/ECO3ETPTJPL001_EVAPOTRANSPIRATION_PT_JPL_ETdaily_doy2018232141651_aid0001-clipped-resampled.tif'),\n",
       " PosixPath('/home/ryan/work/tmp/ECO3ETPTJPL001_EVAPOTRANSPIRATION_PT_JPL_ETdaily_doy2018220132241_aid0001-clipped-resampled.tif'),\n",
       " PosixPath('/home/ryan/work/tmp/ECO3ETPTJPL001_EVAPOTRANSPIRATION_PT_JPL_ETdaily_doy2018239063511_aid0001-clipped-resampled.tif'),\n",
       " PosixPath('/home/ryan/work/tmp/ECO3ETPTJPL001_EVAPOTRANSPIRATION_PT_JPL_ETdaily_doy2018212170556_aid0001-clipped-resampled.tif'),\n",
       " PosixPath('/home/ryan/work/tmp/ECO3ETPTJPL001_EVAPOTRANSPIRATION_PT_JPL_ETdaily_doy2019054120233_aid0001-clipped-resampled.tif'),\n",
       " PosixPath('/home/ryan/work/tmp/ECO3ETPTJPL001_EVAPOTRANSPIRATION_PT_JPL_ETdaily_doy2018227152241_aid0001-clipped-resampled.tif'),\n",
       " PosixPath('/home/ryan/work/tmp/ECO3ETPTJPL001_EVAPOTRANSPIRATION_PT_JPL_ETdaily_doy2019175062349_aid0001-clipped-resampled.tif'),\n",
       " PosixPath('/home/ryan/work/tmp/ECO3ETPTJPL001_EVAPOTRANSPIRATION_PT_JPL_ETdaily_doy2019274152313_aid0001-clipped-resampled.tif'),\n",
       " PosixPath('/home/ryan/work/tmp/ECO3ETPTJPL001_EVAPOTRANSPIRATION_PT_JPL_ETdaily_doy2019179093338_aid0001-clipped-resampled.tif'),\n",
       " PosixPath('/home/ryan/work/tmp/ECO3ETPTJPL001_EVAPOTRANSPIRATION_PT_JPL_ETdaily_doy2019271161140_aid0001-clipped-resampled.tif'),\n",
       " PosixPath('/home/ryan/work/tmp/ECO3ETPTJPL001_EVAPOTRANSPIRATION_PT_JPL_ETdaily_doy2019205192328_aid0001-clipped-resampled.tif'),\n",
       " PosixPath('/home/ryan/work/tmp/ECO3ETPTJPL001_EVAPOTRANSPIRATION_PT_JPL_ETdaily_doy2019214151208_aid0001-clipped-resampled.tif'),\n",
       " PosixPath('/home/ryan/work/tmp/ECO3ETPTJPL001_EVAPOTRANSPIRATION_PT_JPL_ETdaily_doy2019151163148_aid0001-clipped-resampled.tif'),\n",
       " PosixPath('/home/ryan/work/tmp/ECO3ETPTJPL001_EVAPOTRANSPIRATION_PT_JPL_ETdaily_doy2019168085650_aid0001-clipped-resampled.tif'),\n",
       " PosixPath('/home/ryan/work/tmp/ECO3ETPTJPL001_EVAPOTRANSPIRATION_PT_JPL_ETdaily_doy2019156140000_aid0001-clipped-resampled.tif'),\n",
       " PosixPath('/home/ryan/work/tmp/ECO3ETPTJPL001_EVAPOTRANSPIRATION_PT_JPL_ETdaily_doy2019168134751_aid0001-clipped-resampled.tif'),\n",
       " PosixPath('/home/ryan/work/tmp/ECO3ETPTJPL001_EVAPOTRANSPIRATION_PT_JPL_ETdaily_doy2019178053102_aid0001-clipped-resampled.tif'),\n",
       " PosixPath('/home/ryan/work/tmp/ECO3ETPTJPL001_EVAPOTRANSPIRATION_PT_JPL_ETdaily_doy2018210171256_aid0001-clipped-resampled.tif'),\n",
       " PosixPath('/home/ryan/work/tmp/ECO3ETPTJPL001_EVAPOTRANSPIRATION_PT_JPL_ETdaily_doy2019204183553_aid0001-clipped-resampled.tif'),\n",
       " PosixPath('/home/ryan/work/tmp/ECO3ETPTJPL001_EVAPOTRANSPIRATION_PT_JPL_ETdaily_doy2019061091709_aid0001-clipped-resampled.tif'),\n",
       " PosixPath('/home/ryan/work/tmp/ECO3ETPTJPL001_EVAPOTRANSPIRATION_PT_JPL_ETdaily_doy2018211175734_aid0001-clipped-resampled.tif'),\n",
       " PosixPath('/home/ryan/work/tmp/ECO3ETPTJPL001_EVAPOTRANSPIRATION_PT_JPL_ETdaily_doy2019152154152_aid0001-clipped-resampled.tif'),\n",
       " PosixPath('/home/ryan/work/tmp/ECO3ETPTJPL001_EVAPOTRANSPIRATION_PT_JPL_ETdaily_doy2018246083458_aid0001-clipped-resampled.tif'),\n",
       " PosixPath('/home/ryan/work/tmp/ECO3ETPTJPL001_EVAPOTRANSPIRATION_PT_JPL_ETdaily_doy2019052120750_aid0001-clipped-resampled.tif'),\n",
       " PosixPath('/home/ryan/work/tmp/ECO3ETPTJPL001_EVAPOTRANSPIRATION_PT_JPL_ETdaily_doy2019047144845_aid0001-clipped-resampled.tif'),\n",
       " PosixPath('/home/ryan/work/tmp/ECO3ETPTJPL001_EVAPOTRANSPIRATION_PT_JPL_ETdaily_doy2019047095734_aid0001-clipped-resampled.tif'),\n",
       " PosixPath('/home/ryan/work/tmp/ECO3ETPTJPL001_EVAPOTRANSPIRATION_PT_JPL_ETdaily_doy2019217142100_aid0001-clipped-resampled.tif'),\n",
       " PosixPath('/home/ryan/work/tmp/ECO3ETPTJPL001_EVAPOTRANSPIRATION_PT_JPL_ETdaily_doy2019235074155_aid0001-clipped-resampled.tif'),\n",
       " PosixPath('/home/ryan/work/tmp/ECO3ETPTJPL001_EVAPOTRANSPIRATION_PT_JPL_ETdaily_doy2019054071031_aid0001-clipped-resampled.tif'),\n",
       " PosixPath('/home/ryan/work/tmp/ECO3ETPTJPL001_EVAPOTRANSPIRATION_PT_JPL_ETdaily_doy2019153145242_aid0001-clipped-resampled.tif'),\n",
       " PosixPath('/home/ryan/work/tmp/ECO3ETPTJPL001_EVAPOTRANSPIRATION_PT_JPL_ETdaily_doy2018233083402_aid0001-clipped-resampled.tif'),\n",
       " PosixPath('/home/ryan/work/tmp/ECO3ETPTJPL001_EVAPOTRANSPIRATION_PT_JPL_ETdaily_doy2019149163320_aid0001-clipped-resampled.tif'),\n",
       " PosixPath('/home/ryan/work/tmp/ECO3ETPTJPL001_EVAPOTRANSPIRATION_PT_JPL_ETdaily_doy2018240103354_aid0001-clipped-resampled.tif'),\n",
       " PosixPath('/home/ryan/work/tmp/ECO3ETPTJPL001_EVAPOTRANSPIRATION_PT_JPL_ETdaily_doy2018246083406_aid0001-clipped-resampled.tif'),\n",
       " PosixPath('/home/ryan/work/tmp/ECO3ETPTJPL001_EVAPOTRANSPIRATION_PT_JPL_ETdaily_doy2019054120141_aid0001-clipped-resampled.tif'),\n",
       " PosixPath('/home/ryan/work/tmp/ECO3ETPTJPL001_EVAPOTRANSPIRATION_PT_JPL_ETdaily_doy2019064082017_aid0001-clipped-resampled.tif'),\n",
       " PosixPath('/home/ryan/work/tmp/ECO3ETPTJPL001_EVAPOTRANSPIRATION_PT_JPL_ETdaily_doy2019175062257_aid0001-clipped-resampled.tif'),\n",
       " PosixPath('/home/ryan/work/tmp/ECO3ETPTJPL001_EVAPOTRANSPIRATION_PT_JPL_ETdaily_doy2018240054334_aid0001-clipped-resampled.tif'),\n",
       " PosixPath('/home/ryan/work/tmp/ECO3ETPTJPL001_EVAPOTRANSPIRATION_PT_JPL_ETdaily_doy2019219173306_aid0001-clipped-resampled.tif'),\n",
       " PosixPath('/home/ryan/work/tmp/ECO3ETPTJPL001_EVAPOTRANSPIRATION_PT_JPL_ETdaily_doy2018225170737_aid0001-clipped-resampled.tif'),\n",
       " PosixPath('/home/ryan/work/tmp/ECO3ETPTJPL001_EVAPOTRANSPIRATION_PT_JPL_ETdaily_doy2018213161356_aid0001-clipped-resampled.tif'),\n",
       " PosixPath('/home/ryan/work/tmp/ECO3ETPTJPL001_EVAPOTRANSPIRATION_PT_JPL_ETdaily_doy2018227152333_aid0001-clipped-resampled.tif'),\n",
       " PosixPath('/home/ryan/work/tmp/ECO3ETPTJPL001_EVAPOTRANSPIRATION_PT_JPL_ETdaily_doy2019210165327_aid0001-clipped-resampled.tif'),\n",
       " PosixPath('/home/ryan/work/tmp/ECO3ETPTJPL001_EVAPOTRANSPIRATION_PT_JPL_ETdaily_doy2019206183403_aid0001-clipped-resampled.tif'),\n",
       " PosixPath('/home/ryan/work/tmp/ECO3ETPTJPL001_EVAPOTRANSPIRATION_PT_JPL_ETdaily_doy2018247074138_aid0001-clipped-resampled.tif'),\n",
       " PosixPath('/home/ryan/work/tmp/ECO3ETPTJPL001_EVAPOTRANSPIRATION_PT_JPL_ETdaily_doy2018232092540_aid0001-clipped-resampled.tif'),\n",
       " PosixPath('/home/ryan/work/tmp/ECO3ETPTJPL001_EVAPOTRANSPIRATION_PT_JPL_ETdaily_doy2019157180220_aid0001-clipped-resampled.tif'),\n",
       " PosixPath('/home/ryan/work/tmp/ECO3ETPTJPL001_EVAPOTRANSPIRATION_PT_JPL_ETdaily_doy2019217142152_aid0001-clipped-resampled.tif'),\n",
       " PosixPath('/home/ryan/work/tmp/ECO3ETPTJPL001_EVAPOTRANSPIRATION_PT_JPL_ETdaily_doy2019278134510_aid0001-clipped-resampled.tif'),\n",
       " PosixPath('/home/ryan/work/tmp/ECO3ETPTJPL001_EVAPOTRANSPIRATION_PT_JPL_ETdaily_doy2019153145150_aid0001-clipped-resampled.tif'),\n",
       " PosixPath('/home/ryan/work/tmp/ECO3ETPTJPL001_EVAPOTRANSPIRATION_PT_JPL_ETdaily_doy2019048135801_aid0001-clipped-resampled.tif'),\n",
       " PosixPath('/home/ryan/work/tmp/ECO3ETPTJPL001_EVAPOTRANSPIRATION_PT_JPL_ETdaily_doy2019273161108_aid0001-clipped-resampled.tif'),\n",
       " PosixPath('/home/ryan/work/tmp/ECO3ETPTJPL001_EVAPOTRANSPIRATION_PT_JPL_ETdaily_doy2019246064957_aid0001-clipped-resampled.tif'),\n",
       " PosixPath('/home/ryan/work/tmp/ECO3ETPTJPL001_EVAPOTRANSPIRATION_PT_JPL_ETdaily_doy2019045145453_aid0001-clipped-resampled.tif'),\n",
       " PosixPath('/home/ryan/work/tmp/ECO3ETPTJPL001_EVAPOTRANSPIRATION_PT_JPL_ETdaily_doy2019164103736_aid0001-clipped-resampled.tif'),\n",
       " PosixPath('/home/ryan/work/tmp/ECO3ETPTJPL001_EVAPOTRANSPIRATION_PT_JPL_ETdaily_doy2018236073404_aid0001-clipped-resampled.tif'),\n",
       " PosixPath('/home/ryan/work/tmp/ECO3ETPTJPL001_EVAPOTRANSPIRATION_PT_JPL_ETdaily_doy2019207174408_aid0001-clipped-resampled.tif')]"
      ]
     },
     "execution_count": 9,
     "metadata": {},
     "output_type": "execute_result"
    }
   ],
   "source": [
    "resampled_scene_paths"
   ]
  },
  {
   "cell_type": "code",
   "execution_count": null,
   "metadata": {},
   "outputs": [],
   "source": []
  },
  {
   "cell_type": "code",
   "execution_count": null,
   "metadata": {},
   "outputs": [],
   "source": []
  },
  {
   "cell_type": "code",
   "execution_count": null,
   "metadata": {},
   "outputs": [],
   "source": []
  },
  {
   "cell_type": "markdown",
   "metadata": {},
   "source": [
    "plotting data availability"
   ]
  },
  {
   "cell_type": "code",
   "execution_count": null,
   "metadata": {},
   "outputs": [],
   "source": [
    "all_et_daily = eio.read_scenes(scene_paths)\n",
    "\n",
    "# all_qa_paths = clip_and_save(whole_tif_qa_paths, bounds_tuple, filter_nan = True, outDir=\"/scratch/rave/tmp\")\n",
    "# all_qa_daily, all_et_daily = eio.match_da_lists(all_qa_daily, all_et_daily)\n",
    "\n",
    "## ECOSTRESS Availability over the Rhone River\n",
    "date_df = eio.get_date_df(all_et_daily)\n",
    "# date_df.groupby([date_df['date'].dt.month, date_df['date'].dt.year]).count().plot(kind=\"bar\")"
   ]
  },
  {
   "cell_type": "code",
   "execution_count": null,
   "metadata": {},
   "outputs": [],
   "source": [
    "import matplotlib.pyplot as plt\n",
    "from rasterio.enums import Resampling"
   ]
  },
  {
   "cell_type": "markdown",
   "metadata": {},
   "source": [
    "possibly done did it. xarray plot plots intersect of minimum bound rect?"
   ]
  },
  {
   "cell_type": "code",
   "execution_count": null,
   "metadata": {},
   "outputs": [],
   "source": [
    "import matplotlib.pyplot as plt\n",
    "from rasterio.enums import Resampling\n",
    "\n",
    "ax = plt.subplot()\n",
    "\n",
    "r0 = all_et_daily[0].rio.reproject_match(cube['value'], resampling=Resampling.nearest)\n",
    "r4 = all_et_daily[4].rio.reproject_match(cube['value'], resampling=Resampling.nearest)\n",
    "\n",
    "r0.sel(band=1).plot.imshow(ax=ax, cmap=\"inferno\")\n",
    "r4.sel(band=1).plot.imshow(ax=ax, add_colorbar=False)\n"
   ]
  },
  {
   "cell_type": "code",
   "execution_count": null,
   "metadata": {},
   "outputs": [],
   "source": [
    "r4.rio.to_raster(\"/scratch/rave/r4.tif\")"
   ]
  },
  {
   "cell_type": "code",
   "execution_count": null,
   "metadata": {},
   "outputs": [],
   "source": []
  },
  {
   "cell_type": "code",
   "execution_count": null,
   "metadata": {},
   "outputs": [],
   "source": [
    "r0.sel(band=1).plot.imshow()"
   ]
  },
  {
   "cell_type": "code",
   "execution_count": null,
   "metadata": {},
   "outputs": [],
   "source": [
    "r0.shape"
   ]
  },
  {
   "cell_type": "code",
   "execution_count": null,
   "metadata": {},
   "outputs": [],
   "source": [
    "r4.shape"
   ]
  },
  {
   "cell_type": "code",
   "execution_count": null,
   "metadata": {},
   "outputs": [],
   "source": [
    "all_et_daily[4].shape"
   ]
  },
  {
   "cell_type": "code",
   "execution_count": null,
   "metadata": {},
   "outputs": [],
   "source": [
    "all_et_daily[0].shape"
   ]
  },
  {
   "cell_type": "code",
   "execution_count": null,
   "metadata": {},
   "outputs": [],
   "source": [
    "ax = plt.subplot()\n",
    "all_et_daily[0].sel(band=1).plot.imshow(ax=ax, cmap=\"inferno\")\n",
    "# et0.rio.reproject_match(et10).plot(ax=ax, add_colorbar=False)\n",
    "# all_et_daily[4].sel(band=1).plot.imshow(ax=ax, add_colorbar=False)"
   ]
  },
  {
   "cell_type": "code",
   "execution_count": null,
   "metadata": {},
   "outputs": [],
   "source": []
  },
  {
   "cell_type": "markdown",
   "metadata": {},
   "source": [
    "Checking how well a contant lat lon resolution preserves distance/area rleationships over the aoi\n",
    "\n",
    "https://stackoverflow.com/questions/19412462/getting-distance-between-two-points-based-on-latitude-longitude"
   ]
  },
  {
   "cell_type": "markdown",
   "metadata": {},
   "source": [
    "trying xesmf takes a long time"
   ]
  },
  {
   "cell_type": "code",
   "execution_count": null,
   "metadata": {},
   "outputs": [],
   "source": [
    "resolution = .0006349"
   ]
  },
  {
   "cell_type": "code",
   "execution_count": null,
   "metadata": {},
   "outputs": [],
   "source": [
    "import geopy.distance\n",
    "\n",
    "lonmin, latmin, lonmax, latmax = buffered_france_rivers_df.total_bounds\n",
    "print(\"resolution distance at lower left\", geopy.distance.geodesic((lonmin,latmin),(lonmin+resolution,latmin)).m)\n",
    "print(\"resolution distance at upper right\", geopy.distance.geodesic((lonmax,latmax),(lonmax,latmax+resolution)).m)"
   ]
  },
  {
   "cell_type": "markdown",
   "metadata": {},
   "source": [
    "Need to make grid out and use xesmf to convert the grid ins"
   ]
  },
  {
   "cell_type": "code",
   "execution_count": null,
   "metadata": {},
   "outputs": [],
   "source": [
    "buffered_france_rivers_df.unary_union.centroid"
   ]
  },
  {
   "cell_type": "markdown",
   "metadata": {},
   "source": [
    "xesmf requires working with constant latitude and longitutde resolution."
   ]
  },
  {
   "cell_type": "code",
   "execution_count": null,
   "metadata": {},
   "outputs": [],
   "source": [
    "import xesmf as xe\n",
    "\n",
    "grid_out = {\"lon\": np.arange(lonmin, lonmax, resolution),\n",
    "           \"lat\": np.arange(latmin, latmax, resolution)}"
   ]
  },
  {
   "cell_type": "code",
   "execution_count": null,
   "metadata": {},
   "outputs": [],
   "source": [
    "lon, lat = np.meshgrid(all_et_daily[0]['x'], all_et_daily[0]['y'])"
   ]
  },
  {
   "cell_type": "code",
   "execution_count": null,
   "metadata": {},
   "outputs": [],
   "source": [
    "grid_in = {'lon': lon, 'lat': lat}\n"
   ]
  },
  {
   "cell_type": "code",
   "execution_count": null,
   "metadata": {},
   "outputs": [],
   "source": [
    "help(xe.Regridder)"
   ]
  },
  {
   "cell_type": "code",
   "execution_count": null,
   "metadata": {},
   "outputs": [],
   "source": [
    "regridder = xe.Regridder(grid_in, grid_out, method=\"bilinear\")\n",
    "regridder.clean_weight_file()\n",
    "regridder\n"
   ]
  },
  {
   "cell_type": "code",
   "execution_count": null,
   "metadata": {},
   "outputs": [],
   "source": []
  },
  {
   "cell_type": "code",
   "execution_count": null,
   "metadata": {},
   "outputs": [],
   "source": []
  },
  {
   "cell_type": "code",
   "execution_count": null,
   "metadata": {},
   "outputs": [],
   "source": []
  },
  {
   "cell_type": "code",
   "execution_count": null,
   "metadata": {},
   "outputs": [],
   "source": []
  },
  {
   "cell_type": "code",
   "execution_count": null,
   "metadata": {},
   "outputs": [],
   "source": [
    "from matplotlib.colors import LinearSegmentedColormap\n",
    "import matplotlib.pyplot as plt\n",
    "%matplotlib inline\n",
    "\n",
    "ETcolors = [\"#f6e8c3\", \"#d8b365\", \"#99974a\", \"#53792d\", \"#6bdfd2\", \"#1839c5\"]\n",
    "ETcmap = LinearSegmentedColormap.from_list(\"ET\", ETcolors)\n",
    "date_utc = pd.to_datetime(et['date'].values)\n",
    "layer_type = et.attrs['filename'].split(\"_\")[-3]\n",
    "title = 'ECO3ETPTJPL Evapotranspiration'\n",
    "\n",
    "fig = plt.figure(figsize=(9.7,7.6))                                                       # Set the figure size (x,y)\n",
    "fig.suptitle(f'{title} ({layer_type}) \\n at {date_utc}', fontsize=22)  # Add title for the plots\n",
    "plt.axis('off')                                                                           # Remove axes from plot\n",
    "im = plt.imshow(et.sel(band=1), cmap=ETcmap);                                                        # Plot array using colormap\n",
    "# plt.scatter(Tcol, Trow, color=\"black\", marker='x')                                        # Plot tower location\n",
    "# Add a colormap legend\n",
    "plt.colorbar(im, orientation='horizontal', fraction=0.05, pad=0.004, label=f\"ET ({et.attrs['units']})\", shrink=0.6).outline.set_visible(True)"
   ]
  },
  {
   "cell_type": "code",
   "execution_count": null,
   "metadata": {},
   "outputs": [],
   "source": [
    "xa.open_rasterio(tif_qa_paths[0], parse_coordinates=True)"
   ]
  },
  {
   "cell_type": "code",
   "execution_count": null,
   "metadata": {},
   "outputs": [],
   "source": []
  },
  {
   "cell_type": "code",
   "execution_count": null,
   "metadata": {},
   "outputs": [],
   "source": []
  },
  {
   "cell_type": "code",
   "execution_count": null,
   "metadata": {},
   "outputs": [],
   "source": []
  },
  {
   "cell_type": "markdown",
   "metadata": {},
   "source": [
    "## Code graveyard"
   ]
  },
  {
   "cell_type": "markdown",
   "metadata": {},
   "source": [
    "trying to plot ecostress DataArray with geopandas shapes"
   ]
  },
  {
   "cell_type": "code",
   "execution_count": null,
   "metadata": {},
   "outputs": [],
   "source": [
    "def cartopy_project_geo_df(df, crs):\n",
    "\n",
    "    # This can be converted into a `proj4` string/dict compatible with GeoPandas\n",
    "    crs_proj4 = crs.proj4_init\n",
    "    return df.to_crs(crs_proj4)\n",
    "\n",
    "crs = ccrs.PlateCarree()\n",
    "aoi_projected = cartopy_project_geo_df(aoi, crs)\n",
    "france_rivers_df_projected = cartopy_project_geo_df(france_rivers_df, crs)\n",
    "# base = aoi_projected.plot(color=\"grey\", edgecolor=\"black\")\n",
    "# france_rivers_df_projected.plot(ax=base, color=\"blue\")\n",
    "\n",
    "\n",
    "import cartopy.crs as ccrs\n",
    "import matplotlib.pyplot as plt\n",
    "ax = plt.axes(projection=crs)\n",
    "all_et_daily[14].sel(band=1).plot.imshow(ax=ax, transform=crs)\n",
    "# ax.add_geometries(aoi_projected['geometry'], crs=crs)\n",
    "ax.add_geometries(france_rivers_df_projected['geometry'], crs=crs)"
   ]
  },
  {
   "cell_type": "code",
   "execution_count": null,
   "metadata": {},
   "outputs": [],
   "source": [
    "def mask_NA_values():\n",
    "    \"\"\"\n",
    "    Daily ET products have both nan values from where there are clouds \n",
    "    and -1e+13 for where the ecostress swath was clipped during the ordering process\n",
    "    \"\"\"\n",
    "    masked_et = np.ma.masked_where(et.sel(band=1) == np.nan, et.sel(band=1))\n",
    "    masked_et = np.ma.masked_where(masked_et == -1e+13, masked_et)"
   ]
  }
 ],
 "metadata": {
  "kernelspec": {
   "display_name": "Python 3",
   "language": "python",
   "name": "python3"
  },
  "language_info": {
   "codemirror_mode": {
    "name": "ipython",
    "version": 3
   },
   "file_extension": ".py",
   "mimetype": "text/x-python",
   "name": "python",
   "nbconvert_exporter": "python",
   "pygments_lexer": "ipython3",
   "version": "3.6.7"
  }
 },
 "nbformat": 4,
 "nbformat_minor": 4
}
