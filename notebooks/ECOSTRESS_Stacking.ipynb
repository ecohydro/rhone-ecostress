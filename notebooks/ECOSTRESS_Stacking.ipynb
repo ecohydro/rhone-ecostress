{
 "cells": [
  {
   "cell_type": "markdown",
   "metadata": {},
   "source": [
    "# Defining the aoi"
   ]
  },
  {
   "cell_type": "code",
   "execution_count": null,
   "metadata": {},
   "outputs": [],
   "source": [
    "with open(f\"{root_path}/core/geo-countries/archive/countries.geojson\", \"rb\") as f:\n",
    "    all_countries_geojson = json.loads(f.read())\n",
    "\n",
    "\n",
    "for i in all_countries_geojson['features']:\n",
    "    if i['properties']['ADMIN'] == \"France\":\n",
    "        france_geo = i\n",
    "\n",
    "\n",
    "france_gdf = gpd.GeoDataFrame.from_features([france_geo]).explode()\n",
    "\n",
    "france_gdf[france_gdf.area==max(france_gdf.area)].plot()\n",
    "\n",
    "aoi = france_gdf[france_gdf.area==max(france_gdf.area)]\n",
    "\n",
    "aoi_geojson = json.loads(aoi.to_json())\n",
    "\n",
    "xmin, ymin, xmax, ymax = aoi.total_bounds\n",
    "xmin, ymin, xmax, ymax = (4, 42, 7, 47)  # hardcoding since concattenating 1000s of ecostress files with different overlaps hangs"
   ]
  },
  {
   "cell_type": "markdown",
   "metadata": {},
   "source": [
    "# Global rivers dataset"
   ]
  },
  {
   "cell_type": "code",
   "execution_count": null,
   "metadata": {},
   "outputs": [],
   "source": [
    "rivers_df = gpd.read_file(Path(root_path, \"europe_rivers/eu_river.shp\"))\n",
    "\n",
    "rivers_df['R_ID'] = rivers_df['R_ID'].apply(int).apply(str)\n",
    "\n",
    "france_rivers_df = rivers_df.cx[xmin:xmax, ymin:ymax]"
   ]
  },
  {
   "cell_type": "markdown",
   "metadata": {},
   "source": [
    "### Check to make sure they overlay, geopandas has poor support for linestrings so we subset by the bounding box"
   ]
  },
  {
   "cell_type": "code",
   "execution_count": null,
   "metadata": {},
   "outputs": [],
   "source": [
    "base = aoi.plot(color=\"grey\", edgecolor=\"black\")\n",
    "\n",
    "france_rivers_df.plot(ax=base, color=\"blue\")"
   ]
  },
  {
   "cell_type": "code",
   "execution_count": null,
   "metadata": {},
   "outputs": [],
   "source": [
    "import pandas as pd\n",
    "import numpy as np\n",
    "import xarray as xa\n",
    "from pathlib import Path\n",
    "import src.data.ecostress_io as eio\n",
    "import rioxarray\n",
    "import sys\n",
    "import geopandas as gpd\n",
    "import json\n",
    "\n",
    "root_path = Path(\"/scratch/rave/\")\n",
    "\n",
    "qa_path = Path(root_path, \"rhone-ecostress-data\", \"ECO3ANCQA\")\n",
    "et_path = Path(root_path, \"rhone-ecostress-data\", \"ECO3ETPTJPL\")\n",
    "esi_path = Path(root_path, \"rhone-ecostress-data\", \"ECO4ESIPTJPL\")\n",
    "\n",
    "tif_qa_paths, csv_qa_paths, xml_qa_paths = eio.separate_extensions(qa_path)\n",
    "\n",
    "tif_etdaily_paths, csv_et_paths, xml_et_paths = eio.separate_extensions(et_path, \"*ETdaily*.tif\")\n",
    "\n",
    "et = eio.read_mask_ecostress_scene(tif_etdaily_paths[0])"
   ]
  },
  {
   "cell_type": "markdown",
   "metadata": {},
   "source": [
    "Can use below to filter out all xarray data arrays that do not at least partially intersect with an aoi boundary. Then hopefully concatenating can happen."
   ]
  },
  {
   "cell_type": "code",
   "execution_count": null,
   "metadata": {},
   "outputs": [],
   "source": [
    "try:\n",
    "    et_clipped = et.rio.clip_box(\n",
    "        minx=xmin,\n",
    "        miny=ymin,\n",
    "        maxx=xmax,\n",
    "        maxy=ymax,\n",
    "    )\n",
    "except rioxarray.exceptions.NoDataInBounds:\n",
    "    print(\"The whole scene falls outside the aoi bounds, skipping\")"
   ]
  },
  {
   "cell_type": "code",
   "execution_count": null,
   "metadata": {},
   "outputs": [],
   "source": [
    "\n",
    "def read_scenes(tif_paths):\n",
    "    \"\"\"\n",
    "    Reads in multiple Landsat surface reflectance scenes given a regex pattern.\n",
    "    Args:\n",
    "        path (str): Path of form \"../*\".\n",
    "    Returns:\n",
    "        bool: Returns an xarray data array with dimensions for x, y, band, and time.\n",
    "    \"\"\"\n",
    "    scenes = [eio.read_mask_ecostress_scene(path) for path in tif_paths]\n",
    "    return xa.merge(scenes)"
   ]
  },
  {
   "cell_type": "code",
   "execution_count": null,
   "metadata": {},
   "outputs": [],
   "source": [
    "all_et_daily = read_scenes(tif_etdaily_paths)\n",
    "\n",
    "all_et_daily.nbytes / 1e9"
   ]
  },
  {
   "cell_type": "code",
   "execution_count": null,
   "metadata": {},
   "outputs": [],
   "source": [
    "from matplotlib.colors import LinearSegmentedColormap\n",
    "import matplotlib.pyplot as plt\n",
    "%matplotlib inline\n",
    "\n",
    "ETcolors = [\"#f6e8c3\", \"#d8b365\", \"#99974a\", \"#53792d\", \"#6bdfd2\", \"#1839c5\"]\n",
    "ETcmap = LinearSegmentedColormap.from_list(\"ET\", ETcolors)\n",
    "date_utc = pd.to_datetime(et['date'].values)\n",
    "layer_type = et.attrs['filename'].split(\"_\")[-3]\n",
    "title = 'ECO3ETPTJPL Evapotranspiration'\n",
    "\n",
    "fig = plt.figure(figsize=(9.7,7.6))                                                       # Set the figure size (x,y)\n",
    "fig.suptitle(f'{title} ({layer_type}) \\n at {date_utc}', fontsize=22)  # Add title for the plots\n",
    "plt.axis('off')                                                                           # Remove axes from plot\n",
    "im = plt.imshow(et.sel(band=1), cmap=ETcmap);                                                        # Plot array using colormap\n",
    "# plt.scatter(Tcol, Trow, color=\"black\", marker='x')                                        # Plot tower location\n",
    "# Add a colormap legend\n",
    "plt.colorbar(im, orientation='horizontal', fraction=0.05, pad=0.004, label=f\"ET ({et.attrs['units']})\", shrink=0.6).outline.set_visible(True)"
   ]
  },
  {
   "cell_type": "code",
   "execution_count": null,
   "metadata": {},
   "outputs": [],
   "source": [
    "xa.open_rasterio(tif_qa_paths[0], parse_coordinates=True)"
   ]
  },
  {
   "cell_type": "code",
   "execution_count": null,
   "metadata": {},
   "outputs": [],
   "source": []
  },
  {
   "cell_type": "code",
   "execution_count": null,
   "metadata": {},
   "outputs": [],
   "source": []
  },
  {
   "cell_type": "code",
   "execution_count": null,
   "metadata": {},
   "outputs": [],
   "source": []
  },
  {
   "cell_type": "markdown",
   "metadata": {},
   "source": [
    "## Code graveyard"
   ]
  },
  {
   "cell_type": "code",
   "execution_count": null,
   "metadata": {},
   "outputs": [],
   "source": [
    "def mask_NA_values():\n",
    "    \"\"\"\n",
    "    Daily ET products have both nan values from where there are clouds \n",
    "    and -1e+13 for where the ecostress swath was clipped during the ordering process\n",
    "    \"\"\"\n",
    "    masked_et = np.ma.masked_where(et.sel(band=1) == np.nan, et.sel(band=1))\n",
    "    masked_et = np.ma.masked_where(masked_et == -1e+13, masked_et)"
   ]
  }
 ],
 "metadata": {
  "kernelspec": {
   "display_name": "geo",
   "language": "python",
   "name": "geo"
  },
  "language_info": {
   "codemirror_mode": {
    "name": "ipython",
    "version": 3
   },
   "file_extension": ".py",
   "mimetype": "text/x-python",
   "name": "python",
   "nbconvert_exporter": "python",
   "pygments_lexer": "ipython3",
   "version": "3.6.7"
  }
 },
 "nbformat": 4,
 "nbformat_minor": 2
}
