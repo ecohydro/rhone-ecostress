{
 "cells": [
  {
   "cell_type": "markdown",
   "metadata": {},
   "source": [
    "# Defining the aoi"
   ]
  },
  {
   "cell_type": "code",
   "execution_count": 1,
   "metadata": {},
   "outputs": [],
   "source": [
    "import pandas as pd\n",
    "import numpy as np\n",
    "import xarray as xa\n",
    "from pathlib import Path\n",
    "import src.data.ecostress_io as eio\n",
    "import rioxarray\n",
    "import sys\n",
    "import geopandas as gpd\n",
    "import json\n",
    "import dask\n",
    "from dask.distributed import Client\n",
    "\n",
    "n_partitions = 8\n",
    "root_path = Path(\"/mnt/ecostress/rhone-ecostress-data/\")\n",
    "\n",
    "with open(f\"{root_path}/geo-countries/archive/countries.geojson\", \"rb\") as f:\n",
    "    all_countries_geojson = json.loads(f.read())\n",
    "\n",
    "\n",
    "for i in all_countries_geojson['features']:\n",
    "    if i['properties']['ADMIN'] == \"France\":\n",
    "        france_geo = i\n",
    "\n",
    "\n",
    "france_gdf = gpd.GeoDataFrame.from_features([france_geo]).explode()\n",
    "\n",
    "france_gdf[france_gdf.area==max(france_gdf.area)].plot()\n",
    "\n",
    "aoi = france_gdf[france_gdf.area==max(france_gdf.area)]\n",
    "\n",
    "aoi_geojson = json.loads(aoi.to_json())\n",
    "\n",
    "xmin, ymin, xmax, ymax = aoi.total_bounds\n",
    "bounds_tuple = (4, 42, 7, 47)\n",
    "xmin, ymin, xmax, ymax = bounds_tuple  # hardcoding since concattenating 1000s of ecostress files with different overlaps hangs"
   ]
  },
  {
   "cell_type": "markdown",
   "metadata": {},
   "source": [
    "# Global rivers dataset"
   ]
  },
  {
   "cell_type": "code",
   "execution_count": 2,
   "metadata": {},
   "outputs": [],
   "source": [
    "rivers_df = gpd.read_file(Path(root_path, \"europe_rivers/eu_river.shp\"))\n",
    "\n",
    "rivers_df['R_ID'] = rivers_df['R_ID'].apply(int).apply(str)\n",
    "\n",
    "france_rivers_df = rivers_df.cx[xmin:xmax, ymin:ymax]\n",
    "\n",
    "aoi.crs = france_rivers_df.crs # setting crs for aoi"
   ]
  },
  {
   "cell_type": "markdown",
   "metadata": {},
   "source": [
    "### Check to make sure they overlay, geopandas has poor support for linestrings so we subset by the bounding box"
   ]
  },
  {
   "cell_type": "code",
   "execution_count": 3,
   "metadata": {},
   "outputs": [
    {
     "data": {
      "text/plain": [
       "<matplotlib.axes._subplots.AxesSubplot at 0x7f723a55c860>"
      ]
     },
     "execution_count": 3,
     "metadata": {},
     "output_type": "execute_result"
    },
    {
     "data": {
      "image/png": "[encoded data removed]",
      "text/plain": [
       "<Figure size 432x288 with 1 Axes>"
      ]
     },
     "metadata": {
      "needs_background": "light"
     },
     "output_type": "display_data"
    }
   ],
   "source": [
    "base = aoi.plot(color=\"grey\", edgecolor=\"black\")\n",
    "\n",
    "france_rivers_df.plot(ax=base, color=\"blue\")"
   ]
  },
  {
   "cell_type": "markdown",
   "metadata": {},
   "source": [
    "## reading in paths and example data array"
   ]
  },
  {
   "cell_type": "code",
   "execution_count": 4,
   "metadata": {},
   "outputs": [],
   "source": [
    "qa_path = Path(root_path, \"ECO3ANCQA\")\n",
    "et_path = Path(root_path, \"ECO3ETPTJPL\")\n",
    "esi_path = Path(root_path, \"ECO4ESIPTJPL\")\n",
    "\n",
    "whole_tif_qa_paths, csv_qa_paths, xml_qa_paths = eio.separate_extensions(qa_path)\n",
    "\n",
    "whole_tif_etdaily_paths, csv_et_paths, xml_et_paths = eio.separate_extensions(et_path, \"*ETdaily*.tif\")"
   ]
  },
  {
   "cell_type": "markdown",
   "metadata": {},
   "source": [
    "Clipping all et tifs, takes about 10 min with threading. "
   ]
  },
  {
   "cell_type": "code",
   "execution_count": 5,
   "metadata": {},
   "outputs": [],
   "source": [
    "tempdir = Path(\"/home/ryan/work/tmp\")\n",
    "\n",
    "clipped_scene_paths = [Path(p) for p in tempdir.glob(\"*clipped*\")]\n",
    "\n",
    "if clipped_scene_paths == []:\n",
    "    client = Client()\n",
    "    \n",
    "    batches = eio.batches_from(whole_tif_etdaily_paths, 8)\n",
    "    \n",
    "    batch_results = []\n",
    "    \n",
    "    for batch in batches:\n",
    "    \n",
    "        batch_result = dask.delayed(eio.clip_and_save)(batch, bounds_tuple, filter_nan = True, outDir=tempdir)\n",
    "        batch_results.append(batch_result)\n",
    "        \n",
    "    result_futures = client.compute(batch_results, scheduler='processes')\n",
    "\n",
    "    clipped_scene_paths = [i.result() for i in result_futures if i.result()]# gets rid of None that denotes too little scene overlap\n",
    "\n",
    "    client.restart()\n",
    "    "
   ]
  },
  {
   "cell_type": "code",
   "execution_count": 6,
   "metadata": {},
   "outputs": [
    {
     "name": "stderr",
     "output_type": "stream",
     "text": [
      "/data/anaconda/envs/geo/lib/python3.6/site-packages/ipykernel_launcher.py:4: SettingWithCopyWarning: \n",
      "A value is trying to be set on a copy of a slice from a DataFrame.\n",
      "Try using .loc[row_indexer,col_indexer] = value instead\n",
      "\n",
      "See the caveats in the documentation: http://pandas.pydata.org/pandas-docs/stable/user_guide/indexing.html#returning-a-view-versus-a-copy\n",
      "  after removing the cwd from sys.path.\n"
     ]
    }
   ],
   "source": [
    "buffered_france_rivers_df = france_rivers_df.to_crs(epsg=2154)\\\n",
    "                                            .buffer(5000)\\\n",
    "                                            .to_crs(epsg=4326) # buffers by 5000 meters\n",
    "france_rivers_df['geometry'] = buffered_france_rivers_df"
   ]
  },
  {
   "cell_type": "code",
   "execution_count": 7,
   "metadata": {},
   "outputs": [],
   "source": [
    "resolution = eio.read_ecostress_scene(clipped_scene_paths[0]).rio.resolution()\n",
    "crs = france_rivers_df.crs\n",
    "aoi_grid = eio.gdf_to_dataarray(france_rivers_df, crs, resolution)"
   ]
  },
  {
   "cell_type": "code",
   "execution_count": 8,
   "metadata": {},
   "outputs": [],
   "source": [
    "resampled_scene_paths = [Path(p) for p in tempdir.glob(\"*resampled*\")]\n",
    "\n",
    "if resampled_scene_paths == []:\n",
    "    client = Client()\n",
    "    batches = eio.batches_from(resampled_scene_paths, n_partitions)\n",
    "\n",
    "    def wrapper(paths, aoi_grid, tempdir, path_id):\n",
    "        return_paths = []\n",
    "        for path in paths:\n",
    "            x = eio.read_mask_ecostress_scene(path)\n",
    "            y = eio.resample_xarray_to_basis(x, aoi_grid)\n",
    "            return_paths.append(eio.write_tmp(y, tempdir, path_id))\n",
    "        return return_paths\n",
    "\n",
    "    all_results = []\n",
    "    for batch in batches:\n",
    "        sub_result = dask.delayed(wrapper)(batch, aoi_grid, tempdir, \"resampled\")\n",
    "        all_results.append(sub_result)\n",
    "        \n",
    "    result_future = client.compute(all_results, scheduler=\"processes\")\n",
    "    \n",
    "    resampled_scene_paths = [i.result() for i in result_future]\n",
    "    \n",
    "    client.restart()"
   ]
  },
  {
   "cell_type": "code",
   "execution_count": 9,
   "metadata": {},
   "outputs": [],
   "source": [
    "resampled_data_arrays = eio.read_scenes(resampled_scene_paths)"
   ]
  },
  {
   "cell_type": "code",
   "execution_count": 10,
   "metadata": {},
   "outputs": [],
   "source": [
    "et_tseries = xa.concat(resampled_data_arrays, dim=\"date\").sortby('date')"
   ]
  },
  {
   "cell_type": "code",
   "execution_count": 11,
   "metadata": {},
   "outputs": [
    {
     "name": "stderr",
     "output_type": "stream",
     "text": [
      "/data/anaconda/envs/geo/lib/python3.6/site-packages/ipykernel_launcher.py:2: SettingWithCopyWarning: \n",
      "A value is trying to be set on a copy of a slice from a DataFrame.\n",
      "Try using .loc[row_indexer,col_indexer] = value instead\n",
      "\n",
      "See the caveats in the documentation: http://pandas.pydata.org/pandas-docs/stable/user_guide/indexing.html#returning-a-view-versus-a-copy\n",
      "  \n"
     ]
    }
   ],
   "source": [
    "from geocube.api.core import make_geocube\n",
    "france_rivers_df['value'] = 1 # allow sus to make non empty dataset, required for resampling\n",
    "river_arr = make_geocube(vector_data=france_rivers_df, resolution=resolution)['value']"
   ]
  },
  {
   "cell_type": "code",
   "execution_count": 36,
   "metadata": {},
   "outputs": [
    {
     "data": {
      "text/plain": [
       "<xarray.DataArray 'value' (y: 6101, x: 6558)>\n",
       "array([[-9999., -9999., -9999., ..., -9999., -9999., -9999.],\n",
       "       [-9999., -9999., -9999., ..., -9999., -9999., -9999.],\n",
       "       [-9999., -9999., -9999., ..., -9999., -9999., -9999.],\n",
       "       ...,\n",
       "       [-9999., -9999., -9999., ..., -9999., -9999., -9999.],\n",
       "       [-9999., -9999., -9999., ..., -9999., -9999., -9999.],\n",
       "       [-9999., -9999., -9999., ..., -9999., -9999., -9999.]])\n",
       "Coordinates:\n",
       "  * y            (y) float64 43.35 43.36 43.36 43.36 ... 47.19 47.2 47.2 47.2\n",
       "  * x            (x) float64 7.957 7.956 7.956 7.955 ... 3.829 3.829 3.828 3.827\n",
       "    spatial_ref  int64 0\n",
       "Attributes:\n",
       "    name:          value\n",
       "    long_name:     value\n",
       "    grid_mapping:  spatial_ref\n",
       "    _FillValue:    -9999.0"
      ]
     },
     "execution_count": 36,
     "metadata": {},
     "output_type": "execute_result"
    }
   ],
   "source": [
    "river_arr.where(river_arr==river_arr.attrs['_FillValue'], 0)"
   ]
  },
  {
   "cell_type": "code",
   "execution_count": 15,
   "metadata": {},
   "outputs": [],
   "source": [
    "reanalysis_path = Path(root_path, \"era5-download.nc\")"
   ]
  },
  {
   "cell_type": "code",
   "execution_count": 55,
   "metadata": {},
   "outputs": [
    {
     "data": {
      "text/plain": [
       "<xarray.Dataset>\n",
       "Dimensions:    (latitude: 39, longitude: 41, time: 5857)\n",
       "Coordinates:\n",
       "  * longitude  (longitude) float32 3.9 4.0 4.1 4.2 4.3 ... 7.5 7.6 7.7 7.8 7.9\n",
       "  * latitude   (latitude) float32 47.2 47.1 47.0 46.9 ... 43.7 43.6 43.5 43.4\n",
       "  * time       (time) datetime64[ns] 2018-04-01 ... 2019-05-01\n",
       "Data variables:\n",
       "    d2m        (time, latitude, longitude) float32 ...\n",
       "    t2m        (time, latitude, longitude) float32 ...\n",
       "    evabs      (time, latitude, longitude) float32 ...\n",
       "    evavt      (time, latitude, longitude) float32 ...\n",
       "    e          (time, latitude, longitude) float32 ...\n",
       "    pev        (time, latitude, longitude) float32 ...\n",
       "    sp         (time, latitude, longitude) float32 ...\n",
       "    tp         (time, latitude, longitude) float32 ...\n",
       "Attributes:\n",
       "    Conventions:  CF-1.6\n",
       "    history:      2019-11-09 10:04:42 GMT by grib_to_netcdf-2.14.0: /opt/ecmw..."
      ]
     },
     "execution_count": 55,
     "metadata": {},
     "output_type": "execute_result"
    }
   ],
   "source": [
    "met_dataset = xa.open_dataset(reanalysis_path)\n",
    "\n",
    "met_dataset"
   ]
  },
  {
   "cell_type": "code",
   "execution_count": 84,
   "metadata": {},
   "outputs": [],
   "source": [
    "def saturation_vapor_pressure(temperature):\n",
    "    \"\"\"\n",
    "    Empirical equation from campbell and Norman p.41\n",
    "    \"\"\"\n",
    "    a = .611 # kPa\n",
    "    b = 17.052\n",
    "    c = 240.97 # Celsius\n",
    "    return a*np.e**((b * temperature) / (temperature + c))\n",
    "\n",
    "def vapor_deficit(temperature, dew_point):\n",
    "    \"\"\"\n",
    "    Temperatures must be in celsius\n",
    "    \"\"\"\n",
    "    svp = saturation_vapor_pressure(temperature)\n",
    "    ambient_vapor_pressure = saturation_vapor_pressure(dew_point)\n",
    "    return svp-ambient_vapor_pressure\n",
    "    "
   ]
  },
  {
   "cell_type": "code",
   "execution_count": 85,
   "metadata": {},
   "outputs": [],
   "source": [
    "met_dataset['vpd'] = vapor_deficit(met_dataset['t2m']-273.15,met_dataset['d2m']-273.15)"
   ]
  },
  {
   "cell_type": "code",
   "execution_count": 86,
   "metadata": {},
   "outputs": [
    {
     "data": {
      "text/plain": [
       "<xarray.Dataset>\n",
       "Dimensions:    (latitude: 39, longitude: 41, time: 5857)\n",
       "Coordinates:\n",
       "  * longitude  (longitude) float32 3.9 4.0 4.1 4.2 4.3 ... 7.5 7.6 7.7 7.8 7.9\n",
       "  * latitude   (latitude) float32 47.2 47.1 47.0 46.9 ... 43.7 43.6 43.5 43.4\n",
       "  * time       (time) datetime64[ns] 2018-04-01 ... 2019-05-01\n",
       "Data variables:\n",
       "    d2m        (time, latitude, longitude) float32 275.04233 274.39914 ... nan\n",
       "    t2m        (time, latitude, longitude) float32 276.1722 275.49518 ... nan\n",
       "    evabs      (time, latitude, longitude) float32 ...\n",
       "    evavt      (time, latitude, longitude) float32 ...\n",
       "    e          (time, latitude, longitude) float32 ...\n",
       "    pev        (time, latitude, longitude) float32 ...\n",
       "    sp         (time, latitude, longitude) float32 ...\n",
       "    tp         (time, latitude, longitude) float32 ...\n",
       "    vpd        (time, latitude, longitude) float32 0.056872725 ... nan\n",
       "Attributes:\n",
       "    Conventions:  CF-1.6\n",
       "    history:      2019-11-09 10:04:42 GMT by grib_to_netcdf-2.14.0: /opt/ecmw..."
      ]
     },
     "execution_count": 86,
     "metadata": {},
     "output_type": "execute_result"
    }
   ],
   "source": [
    "met_dataset"
   ]
  },
  {
   "cell_type": "code",
   "execution_count": null,
   "metadata": {},
   "outputs": [],
   "source": []
  },
  {
   "cell_type": "code",
   "execution_count": 41,
   "metadata": {},
   "outputs": [],
   "source": [
    "pev_dekad = met_dataset['pev'].resample(time='1D').sum().resample(time='10D').mean()"
   ]
  },
  {
   "cell_type": "code",
   "execution_count": 51,
   "metadata": {},
   "outputs": [],
   "source": [
    "pev_dekad_2018 = pev_dekad.sel(time=slice(\"2018-01-01\", \"2018-10-01\"))"
   ]
  },
  {
   "cell_type": "code",
   "execution_count": 71,
   "metadata": {},
   "outputs": [
    {
     "data": {
      "text/plain": [
       "<xarray.DataArray 'pev' (time: 24, latitude: 39, longitude: 41)>\n",
       "array([[[-5.402118e-03, -5.579242e-03, ..., -5.094308e-03, -4.974423e-03],\n",
       "        [-5.266033e-03, -5.503641e-03, ..., -4.629893e-03, -4.567251e-03],\n",
       "        ...,\n",
       "        [          nan,           nan, ...,           nan,           nan],\n",
       "        [          nan,           nan, ...,           nan,           nan]],\n",
       "\n",
       "       [[-2.570450e-05, -4.190207e-05, ...,  3.457069e-06,  3.457069e-06],\n",
       "        [-1.274422e-05, -2.462417e-05, ...,  3.457069e-06,  3.457069e-06],\n",
       "        ...,\n",
       "        [          nan,           nan, ...,           nan,           nan],\n",
       "        [          nan,           nan, ...,           nan,           nan]],\n",
       "\n",
       "       ...,\n",
       "\n",
       "       [[-6.123582e-03, -6.234825e-03, ..., -4.284281e-03, -4.170878e-03],\n",
       "        [-5.661326e-03, -5.790930e-03, ..., -4.041273e-03, -3.940830e-03],\n",
       "        ...,\n",
       "        [          nan,           nan, ...,           nan,           nan],\n",
       "        [          nan,           nan, ...,           nan,           nan]],\n",
       "\n",
       "       [[-6.121421e-03, -6.233744e-03, ..., -4.281040e-03, -4.167637e-03],\n",
       "        [-5.659167e-03, -5.789850e-03, ..., -4.038034e-03, -3.936511e-03],\n",
       "        ...,\n",
       "        [          nan,           nan, ...,           nan,           nan],\n",
       "        [          nan,           nan, ...,           nan,           nan]]],\n",
       "      dtype=float32)\n",
       "Coordinates:\n",
       "  * longitude  (longitude) float32 3.9 4.0 4.1 4.2 4.3 ... 7.5 7.6 7.7 7.8 7.9\n",
       "  * latitude   (latitude) float32 47.2 47.1 47.0 46.9 ... 43.7 43.6 43.5 43.4\n",
       "  * time       (time) datetime64[ns] 2019-04-01 ... 2019-04-01T23:00:00\n",
       "Attributes:\n",
       "    units:      m\n",
       "    long_name:  Potential evaporation"
      ]
     },
     "execution_count": 71,
     "metadata": {},
     "output_type": "execute_result"
    }
   ],
   "source": [
    "met_dataset['pev'].sel(time=\"2019-04-01\")"
   ]
  },
  {
   "cell_type": "code",
   "execution_count": 53,
   "metadata": {},
   "outputs": [
    {
     "data": {
      "text/plain": [
       "<xarray.plot.facetgrid.FacetGrid at 0x7f722b3b2630>"
      ]
     },
     "execution_count": 53,
     "metadata": {},
     "output_type": "execute_result"
    },
    {
     "data": {
      "image/png": "[encoded data removed]",
      "text/plain": [
       "<Figure size 1152x648 with 16 Axes>"
      ]
     },
     "metadata": {
      "needs_background": "light"
     },
     "output_type": "display_data"
    }
   ],
   "source": [
    "pev_dekad_2019.plot(x='longitude', y='latitude', col='time', col_wrap=5)"
   ]
  },
  {
   "cell_type": "code",
   "execution_count": 33,
   "metadata": {},
   "outputs": [
    {
     "data": {
      "text/plain": [
       "<matplotlib.axes._subplots.AxesSubplot at 0x7f7231c42cc0>"
      ]
     },
     "execution_count": 33,
     "metadata": {},
     "output_type": "execute_result"
    },
    {
     "data": {
      "image/png": "[encoded data removed]",
      "text/plain": [
       "<Figure size 432x288 with 1 Axes>"
      ]
     },
     "metadata": {
      "needs_background": "light"
     },
     "output_type": "display_data"
    }
   ],
   "source": [
    "france_rivers_df.plot()"
   ]
  },
  {
   "cell_type": "code",
   "execution_count": 27,
   "metadata": {},
   "outputs": [
    {
     "data": {
      "text/plain": [
       "<xarray.DataArray 'ECO3ETPTJPL001_EVAPOTRANSPIRATION_PT_JPL_ETdaily_doy2019240051431_aid0001-clipped-resampled.tif' (band: 1, y: 6101, x: 6558)>\n",
       "dask.array<getitem, shape=(1, 6101, 6558), dtype=float32, chunksize=(1, 6101, 6558), chunktype=numpy.ndarray>\n",
       "Coordinates:\n",
       "  * band     (band) int64 1\n",
       "  * y        (y) float64 43.35 43.36 43.36 43.36 43.36 ... 47.19 47.2 47.2 47.2\n",
       "  * x        (x) float64 7.957 7.956 7.956 7.955 ... 3.829 3.829 3.828 3.827\n",
       "    date     datetime64[ns] 2018-07-29T17:12:56\n",
       "Attributes:\n",
       "    transform:      (-0.0006297774169670002, 0.0, 7.957237663378045, 0.0, 0.0...\n",
       "    crs:            +init=epsg:4326\n",
       "    res:            (-0.0006297774169670002, -0.0006297774169670006)\n",
       "    is_tiled:       0\n",
       "    nodatavals:     (-9999999999999.0,)\n",
       "    scales:         (1.0,)\n",
       "    offsets:        (0.0,)\n",
       "    AREA_OR_POINT:  Area"
      ]
     },
     "execution_count": 27,
     "metadata": {},
     "output_type": "execute_result"
    }
   ],
   "source": [
    "et_tseries[0]"
   ]
  },
  {
   "cell_type": "code",
   "execution_count": 24,
   "metadata": {},
   "outputs": [
    {
     "data": {
      "text/plain": [
       "<xarray.DataArray 'pev' (time: 24, latitude: 39, longitude: 41)>\n",
       "array([[[-3.688101e-03, -3.824186e-03, ..., -1.613356e-03, -1.570154e-03],\n",
       "        [-3.584418e-03, -3.714023e-03, ..., -1.455668e-03, -1.408149e-03],\n",
       "        ...,\n",
       "        [          nan,           nan, ...,           nan,           nan],\n",
       "        [          nan,           nan, ...,           nan,           nan]],\n",
       "\n",
       "       [[-3.002211e-05, -3.218278e-05, ..., -1.940876e-06, -5.181879e-06],\n",
       "        [-2.786145e-05, -3.002211e-05, ..., -9.503216e-06, -1.166388e-05],\n",
       "        ...,\n",
       "        [          nan,           nan, ...,           nan,           nan],\n",
       "        [          nan,           nan, ...,           nan,           nan]],\n",
       "\n",
       "       ...,\n",
       "\n",
       "       [[-3.644902e-03, -3.604941e-03, ..., -3.547698e-03, -3.570378e-03],\n",
       "        [-3.527176e-03, -3.493696e-03, ..., -3.485054e-03, -3.462374e-03],\n",
       "        ...,\n",
       "        [          nan,           nan, ...,           nan,           nan],\n",
       "        [          nan,           nan, ...,           nan,           nan]],\n",
       "\n",
       "       [[-3.657863e-03, -3.617901e-03, ..., -3.546618e-03, -3.570378e-03],\n",
       "        [-3.535818e-03, -3.502335e-03, ..., -3.482897e-03, -3.461294e-03],\n",
       "        ...,\n",
       "        [          nan,           nan, ...,           nan,           nan],\n",
       "        [          nan,           nan, ...,           nan,           nan]]],\n",
       "      dtype=float32)\n",
       "Coordinates:\n",
       "  * longitude  (longitude) float32 3.9 4.0 4.1 4.2 4.3 ... 7.5 7.6 7.7 7.8 7.9\n",
       "  * latitude   (latitude) float32 47.2 47.1 47.0 46.9 ... 43.7 43.6 43.5 43.4\n",
       "  * time       (time) datetime64[ns] 2018-04-01 ... 2018-04-01T23:00:00\n",
       "Attributes:\n",
       "    units:      m\n",
       "    long_name:  Potential evaporation"
      ]
     },
     "execution_count": 24,
     "metadata": {},
     "output_type": "execute_result"
    }
   ],
   "source": [
    "met_dataset['pev'].sel(time=\"2018-04-01\")"
   ]
  },
  {
   "cell_type": "code",
   "execution_count": null,
   "metadata": {},
   "outputs": [],
   "source": []
  },
  {
   "cell_type": "markdown",
   "metadata": {},
   "source": [
    "plotting data availability"
   ]
  },
  {
   "cell_type": "code",
   "execution_count": null,
   "metadata": {},
   "outputs": [],
   "source": []
  },
  {
   "cell_type": "code",
   "execution_count": null,
   "metadata": {},
   "outputs": [],
   "source": [
    "all_et_daily = eio.read_scenes(scene_paths)\n",
    "\n",
    "# all_qa_paths = clip_and_save(whole_tif_qa_paths, bounds_tuple, filter_nan = True, outDir=\"/scratch/rave/tmp\")\n",
    "# all_qa_daily, all_et_daily = eio.match_da_lists(all_qa_daily, all_et_daily)\n",
    "\n",
    "## ECOSTRESS Availability over the Rhone River\n",
    "date_df = eio.get_date_df(all_et_daily)\n",
    "# date_df.groupby([date_df['date'].dt.month, date_df['date'].dt.year]).count().plot(kind=\"bar\")"
   ]
  },
  {
   "cell_type": "code",
   "execution_count": null,
   "metadata": {},
   "outputs": [],
   "source": [
    "import matplotlib.pyplot as plt\n",
    "from rasterio.enums import Resampling"
   ]
  },
  {
   "cell_type": "markdown",
   "metadata": {},
   "source": [
    "possibly done did it. xarray plot plots intersect of minimum bound rect?"
   ]
  },
  {
   "cell_type": "code",
   "execution_count": null,
   "metadata": {},
   "outputs": [],
   "source": [
    "import matplotlib.pyplot as plt\n",
    "from rasterio.enums import Resampling\n",
    "\n",
    "ax = plt.subplot()\n",
    "\n",
    "r0 = all_et_daily[0].rio.reproject_match(cube['value'], resampling=Resampling.nearest)\n",
    "r4 = all_et_daily[4].rio.reproject_match(cube['value'], resampling=Resampling.nearest)\n",
    "\n",
    "r0.sel(band=1).plot.imshow(ax=ax, cmap=\"inferno\")\n",
    "r4.sel(band=1).plot.imshow(ax=ax, add_colorbar=False)\n"
   ]
  },
  {
   "cell_type": "code",
   "execution_count": null,
   "metadata": {},
   "outputs": [],
   "source": [
    "r4.rio.to_raster(\"/scratch/rave/r4.tif\")"
   ]
  },
  {
   "cell_type": "code",
   "execution_count": null,
   "metadata": {},
   "outputs": [],
   "source": []
  },
  {
   "cell_type": "code",
   "execution_count": null,
   "metadata": {},
   "outputs": [],
   "source": [
    "r0.sel(band=1).plot.imshow()"
   ]
  },
  {
   "cell_type": "code",
   "execution_count": null,
   "metadata": {},
   "outputs": [],
   "source": [
    "r0.shape"
   ]
  },
  {
   "cell_type": "code",
   "execution_count": null,
   "metadata": {},
   "outputs": [],
   "source": [
    "r4.shape"
   ]
  },
  {
   "cell_type": "code",
   "execution_count": null,
   "metadata": {},
   "outputs": [],
   "source": [
    "all_et_daily[4].shape"
   ]
  },
  {
   "cell_type": "code",
   "execution_count": null,
   "metadata": {},
   "outputs": [],
   "source": [
    "all_et_daily[0].shape"
   ]
  },
  {
   "cell_type": "code",
   "execution_count": null,
   "metadata": {},
   "outputs": [],
   "source": [
    "ax = plt.subplot()\n",
    "all_et_daily[0].sel(band=1).plot.imshow(ax=ax, cmap=\"inferno\")\n",
    "# et0.rio.reproject_match(et10).plot(ax=ax, add_colorbar=False)\n",
    "# all_et_daily[4].sel(band=1).plot.imshow(ax=ax, add_colorbar=False)"
   ]
  },
  {
   "cell_type": "code",
   "execution_count": null,
   "metadata": {},
   "outputs": [],
   "source": []
  },
  {
   "cell_type": "markdown",
   "metadata": {},
   "source": [
    "Checking how well a contant lat lon resolution preserves distance/area rleationships over the aoi\n",
    "\n",
    "https://stackoverflow.com/questions/19412462/getting-distance-between-two-points-based-on-latitude-longitude"
   ]
  },
  {
   "cell_type": "markdown",
   "metadata": {},
   "source": [
    "trying xesmf takes a long time"
   ]
  },
  {
   "cell_type": "code",
   "execution_count": null,
   "metadata": {},
   "outputs": [],
   "source": [
    "resolution = .0006349"
   ]
  },
  {
   "cell_type": "code",
   "execution_count": null,
   "metadata": {},
   "outputs": [],
   "source": [
    "import geopy.distance\n",
    "\n",
    "lonmin, latmin, lonmax, latmax = buffered_france_rivers_df.total_bounds\n",
    "print(\"resolution distance at lower left\", geopy.distance.geodesic((lonmin,latmin),(lonmin+resolution,latmin)).m)\n",
    "print(\"resolution distance at upper right\", geopy.distance.geodesic((lonmax,latmax),(lonmax,latmax+resolution)).m)"
   ]
  },
  {
   "cell_type": "markdown",
   "metadata": {},
   "source": [
    "Need to make grid out and use xesmf to convert the grid ins"
   ]
  },
  {
   "cell_type": "code",
   "execution_count": null,
   "metadata": {},
   "outputs": [],
   "source": [
    "buffered_france_rivers_df.unary_union.centroid"
   ]
  },
  {
   "cell_type": "markdown",
   "metadata": {},
   "source": [
    "xesmf requires working with constant latitude and longitutde resolution."
   ]
  },
  {
   "cell_type": "code",
   "execution_count": null,
   "metadata": {},
   "outputs": [],
   "source": [
    "import xesmf as xe\n",
    "\n",
    "grid_out = {\"lon\": np.arange(lonmin, lonmax, resolution),\n",
    "           \"lat\": np.arange(latmin, latmax, resolution)}"
   ]
  },
  {
   "cell_type": "code",
   "execution_count": null,
   "metadata": {},
   "outputs": [],
   "source": [
    "lon, lat = np.meshgrid(all_et_daily[0]['x'], all_et_daily[0]['y'])"
   ]
  },
  {
   "cell_type": "code",
   "execution_count": null,
   "metadata": {},
   "outputs": [],
   "source": [
    "grid_in = {'lon': lon, 'lat': lat}\n"
   ]
  },
  {
   "cell_type": "code",
   "execution_count": null,
   "metadata": {},
   "outputs": [],
   "source": [
    "help(xe.Regridder)"
   ]
  },
  {
   "cell_type": "code",
   "execution_count": null,
   "metadata": {},
   "outputs": [],
   "source": [
    "regridder = xe.Regridder(grid_in, grid_out, method=\"bilinear\")\n",
    "regridder.clean_weight_file()\n",
    "regridder\n"
   ]
  },
  {
   "cell_type": "code",
   "execution_count": null,
   "metadata": {},
   "outputs": [],
   "source": []
  },
  {
   "cell_type": "code",
   "execution_count": null,
   "metadata": {},
   "outputs": [],
   "source": []
  },
  {
   "cell_type": "code",
   "execution_count": null,
   "metadata": {},
   "outputs": [],
   "source": []
  },
  {
   "cell_type": "code",
   "execution_count": null,
   "metadata": {},
   "outputs": [],
   "source": []
  },
  {
   "cell_type": "code",
   "execution_count": null,
   "metadata": {},
   "outputs": [],
   "source": [
    "from matplotlib.colors import LinearSegmentedColormap\n",
    "import matplotlib.pyplot as plt\n",
    "%matplotlib inline\n",
    "\n",
    "ETcolors = [\"#f6e8c3\", \"#d8b365\", \"#99974a\", \"#53792d\", \"#6bdfd2\", \"#1839c5\"]\n",
    "ETcmap = LinearSegmentedColormap.from_list(\"ET\", ETcolors)\n",
    "date_utc = pd.to_datetime(et['date'].values)\n",
    "layer_type = et.attrs['filename'].split(\"_\")[-3]\n",
    "title = 'ECO3ETPTJPL Evapotranspiration'\n",
    "\n",
    "fig = plt.figure(figsize=(9.7,7.6))                                                       # Set the figure size (x,y)\n",
    "fig.suptitle(f'{title} ({layer_type}) \\n at {date_utc}', fontsize=22)  # Add title for the plots\n",
    "plt.axis('off')                                                                           # Remove axes from plot\n",
    "im = plt.imshow(et.sel(band=1), cmap=ETcmap);                                                        # Plot array using colormap\n",
    "# plt.scatter(Tcol, Trow, color=\"black\", marker='x')                                        # Plot tower location\n",
    "# Add a colormap legend\n",
    "plt.colorbar(im, orientation='horizontal', fraction=0.05, pad=0.004, label=f\"ET ({et.attrs['units']})\", shrink=0.6).outline.set_visible(True)"
   ]
  },
  {
   "cell_type": "code",
   "execution_count": null,
   "metadata": {},
   "outputs": [],
   "source": [
    "xa.open_rasterio(tif_qa_paths[0], parse_coordinates=True)"
   ]
  },
  {
   "cell_type": "code",
   "execution_count": null,
   "metadata": {},
   "outputs": [],
   "source": []
  },
  {
   "cell_type": "code",
   "execution_count": null,
   "metadata": {},
   "outputs": [],
   "source": []
  },
  {
   "cell_type": "code",
   "execution_count": null,
   "metadata": {},
   "outputs": [],
   "source": []
  },
  {
   "cell_type": "markdown",
   "metadata": {},
   "source": [
    "## Code graveyard"
   ]
  },
  {
   "cell_type": "markdown",
   "metadata": {},
   "source": [
    "trying to plot ecostress DataArray with geopandas shapes"
   ]
  },
  {
   "cell_type": "code",
   "execution_count": null,
   "metadata": {},
   "outputs": [],
   "source": [
    "def cartopy_project_geo_df(df, crs):\n",
    "\n",
    "    # This can be converted into a `proj4` string/dict compatible with GeoPandas\n",
    "    crs_proj4 = crs.proj4_init\n",
    "    return df.to_crs(crs_proj4)\n",
    "\n",
    "crs = ccrs.PlateCarree()\n",
    "aoi_projected = cartopy_project_geo_df(aoi, crs)\n",
    "france_rivers_df_projected = cartopy_project_geo_df(france_rivers_df, crs)\n",
    "# base = aoi_projected.plot(color=\"grey\", edgecolor=\"black\")\n",
    "# france_rivers_df_projected.plot(ax=base, color=\"blue\")\n",
    "\n",
    "\n",
    "import cartopy.crs as ccrs\n",
    "import matplotlib.pyplot as plt\n",
    "ax = plt.axes(projection=crs)\n",
    "all_et_daily[14].sel(band=1).plot.imshow(ax=ax, transform=crs)\n",
    "# ax.add_geometries(aoi_projected['geometry'], crs=crs)\n",
    "ax.add_geometries(france_rivers_df_projected['geometry'], crs=crs)"
   ]
  },
  {
   "cell_type": "code",
   "execution_count": null,
   "metadata": {},
   "outputs": [],
   "source": [
    "def mask_NA_values():\n",
    "    \"\"\"\n",
    "    Daily ET products have both nan values from where there are clouds \n",
    "    and -1e+13 for where the ecostress swath was clipped during the ordering process\n",
    "    \"\"\"\n",
    "    masked_et = np.ma.masked_where(et.sel(band=1) == np.nan, et.sel(band=1))\n",
    "    masked_et = np.ma.masked_where(masked_et == -1e+13, masked_et)"
   ]
  }
 ],
 "metadata": {
  "kernelspec": {
   "display_name": "Python 3",
   "language": "python",
   "name": "python3"
  },
  "language_info": {
   "codemirror_mode": {
    "name": "ipython",
    "version": 3
   },
   "file_extension": ".py",
   "mimetype": "text/x-python",
   "name": "python",
   "nbconvert_exporter": "python",
   "pygments_lexer": "ipython3",
   "version": "3.6.7"
  }
 },
 "nbformat": 4,
 "nbformat_minor": 4
}
