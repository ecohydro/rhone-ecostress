{
 "cells": [
  {
   "cell_type": "markdown",
   "metadata": {},
   "source": [
    "### Defining the aoi"
   ]
  },
  {
   "cell_type": "code",
   "execution_count": 1,
   "metadata": {},
   "outputs": [],
   "source": [
    "import pandas as pd\n",
    "import numpy as np\n",
    "import xarray as xa\n",
    "from pathlib import Path\n",
    "import src.data.ecostress_io as eio\n",
    "import src.data.ecostress_stack as es\n",
    "import src.data.era_stack_resample as esr\n",
    "import rioxarray\n",
    "import sys\n",
    "import geopandas as gpd\n",
    "import json\n",
    "import dask\n",
    "from dask.distributed import Client\n",
    "import matplotlib.pyplot as plt\n",
    "\n",
    "n_partitions = 8 # set in the files\n",
    "root_path = Path(\"/mnt/ecostress/rhone-ecostress-data/\")\n",
    "bounds_tuple = (4, 42, 7, 47)\n",
    "xmin, ymin, xmax, ymax = bounds_tuple  # hardcoding since concattenating 1000s of ecostress files with different overlaps hangs"
   ]
  },
  {
   "cell_type": "markdown",
   "metadata": {},
   "source": [
    "### Subsetting global rivers dataset\n",
    "This dataset needs to be examined more closely. some second order streams appear to be missed and I'm not sure if channels are digitized as river."
   ]
  },
  {
   "cell_type": "code",
   "execution_count": 2,
   "metadata": {},
   "outputs": [
    {
     "data": {
      "image/png": "[encoded data removed]",
      "text/plain": [
       "<Figure size 432x288 with 1 Axes>"
      ]
     },
     "metadata": {
      "needs_background": "light"
     },
     "output_type": "display_data"
    }
   ],
   "source": [
    "rivers_df = gpd.read_file(Path(root_path, \"europe_rivers/eu_river.shp\"))\n",
    "\n",
    "rivers_df['R_ID'] = rivers_df['R_ID'].apply(int).apply(str)\n",
    "\n",
    "france_rivers_df = rivers_df.cx[xmin:xmax, ymin:ymax]\n",
    "\n",
    "aoi = es.filter_countries_for_france_aoi(root_path)\n",
    "\n",
    "aoi.crs = france_rivers_df.crs # setting crs for aoi"
   ]
  },
  {
   "cell_type": "markdown",
   "metadata": {},
   "source": [
    "### Processing ERA Land Reanalysis data, or reading it if it has been previously processed and saved\n",
    "\n",
    "9km nominal resolution is downsampled to Ecostress resolution on a 4326 geographic grid spanning the bounding box defined above."
   ]
  },
  {
   "cell_type": "code",
   "execution_count": 3,
   "metadata": {},
   "outputs": [
    {
     "name": "stdout",
     "output_type": "stream",
     "text": [
      "Daily_VPD_10am-3pm_Paris_Time_Resampled  done reading\n"
     ]
    }
   ],
   "source": [
    "resampled_vpd_ds = esr.read_or_process(root_path, dataset_filename = \"Daily_VPD_10am-3pm_Paris_Time_Resampled.nc\")\n",
    "resampled_vpd_da = resampled_vpd_ds[\"Daily_VPD_10am-3pm_Paris_Time_Resampled\"]"
   ]
  },
  {
   "cell_type": "markdown",
   "metadata": {},
   "source": [
    "### making path lists to products"
   ]
  },
  {
   "cell_type": "code",
   "execution_count": 4,
   "metadata": {},
   "outputs": [],
   "source": [
    "l3qa_path = Path(root_path, \"ECO3ANCQA\")\n",
    "et_path = Path(root_path, \"ECO3ETPTJPL\")\n",
    "esi_path = Path(root_path, \"ECO4ESIPTJPL\")\n",
    "l2_path = Path(root_path, \"ECO2\")\n",
    "\n",
    "tempdir_daily = Path(\"/mnt/ecostress/tmp-daily\")\n",
    "whole_tif_etdaily_paths, csv_et_paths, xml_et_paths = eio.separate_by_pattern(et_path, \"*ETdaily*.tif\")\n",
    "\n",
    "tempdir_inst = Path(\"/mnt/ecostress/tmp-inst\")\n",
    "whole_tif_etinst_paths, csv_etinst_paths, xml_etinst_paths = eio.separate_by_pattern(et_path, \"*ETinst_*.tif\")\n",
    "\n",
    "tempdir_l3qa = Path(\"/mnt/ecostress/tmp-l3qa\")\n",
    "whole_tif_l3qa_paths, csv_qa_paths, xml_qa_paths = eio.separate_by_pattern(l3qa_path)\n",
    "\n",
    "tempdir_l2qa = Path(\"/mnt/ecostress/tmp-l2qa\")\n",
    "whole_tif_l2qa_paths, csv_l2qa_paths, xml_l2qa_paths = eio.separate_by_pattern(l2_path, \"*SDS_QC*.tif\")\n",
    "\n",
    "tempdir_l2cloud = Path(\"/mnt/ecostress/tmp-l2cloud\")\n",
    "whole_tif_l2cloud_paths, csv_l2cloud_paths, xml_l2cloud_paths = eio.separate_by_pattern(l2_path, \"*SDS_CloudMask*.tif\")"
   ]
  },
  {
   "cell_type": "code",
   "execution_count": 5,
   "metadata": {},
   "outputs": [
    {
     "name": "stderr",
     "output_type": "stream",
     "text": [
      "/data/home/ryan/work/rhone-ecostress/src/data/ecostress_stack.py:75: SettingWithCopyWarning: \n",
      "A value is trying to be set on a copy of a slice from a DataFrame.\n",
      "Try using .loc[row_indexer,col_indexer] = value instead\n",
      "\n",
      "See the caveats in the documentation: http://pandas.pydata.org/pandas-docs/stable/user_guide/indexing.html#returning-a-view-versus-a-copy\n",
      "  france_rivers_df['geometry'] = buffered_france_rivers_df\n"
     ]
    }
   ],
   "source": [
    "x = eio.read_ecostress_scene(whole_tif_etinst_paths[0])\n",
    "resolution = x.rio.resolution()\n",
    "x.close()\n",
    "aoi_grid = es.rasterize_buffer_river_df(france_rivers_df, resolution, buffer=5000)"
   ]
  },
  {
   "cell_type": "markdown",
   "metadata": {},
   "source": [
    "Making the aoi grid for resampling"
   ]
  },
  {
   "cell_type": "code",
   "execution_count": 6,
   "metadata": {},
   "outputs": [],
   "source": [
    "from rasterio.enums import Resampling\n",
    "etdaily_tseries_paths = es.clip_resample_ecostress(whole_tif_etdaily_paths, bounds_tuple, aoi_grid, filter_nan=True, tempdir=tempdir_daily, resampling_method=Resampling.bilinear)\n",
    "etinst_tseries_paths = es.clip_resample_ecostress(whole_tif_etinst_paths, bounds_tuple, aoi_grid, filter_nan=True, tempdir=tempdir_inst, resampling_method=Resampling.bilinear)\n",
    "l3qa_tseries_paths = es.clip_resample_ecostress_no_dask(whole_tif_l3qa_paths, bounds_tuple, aoi_grid, filter_nan=True, tempdir=tempdir_l3qa, resampling_method=Resampling.nearest)\n",
    "l2qa_tseries_paths = es.clip_resample_ecostress_no_dask(whole_tif_l2qa_paths, bounds_tuple, aoi_grid, filter_nan=True, tempdir=tempdir_l2qa, resampling_method=Resampling.nearest)\n",
    "l2cloud_tseries_paths = es.clip_resample_ecostress_no_dask(whole_tif_l2cloud_paths, bounds_tuple, aoi_grid, filter_nan=True, tempdir=tempdir_l2cloud, resampling_method=Resampling.nearest)"
   ]
  },
  {
   "cell_type": "code",
   "execution_count": 7,
   "metadata": {},
   "outputs": [],
   "source": [
    "etinst_da_list = eio.read_scenes(etinst_tseries_paths, chunks = {\"band\":1})\n",
    "l3qa_tseries, etinst_da_list = es.read_and_concat(l3qa_tseries_paths, etinst_da_list)\n",
    "l2qa_tseries, etinst_da_list = es.read_and_concat(l2qa_tseries_paths, etinst_da_list)\n",
    "l2cloud_tseries, etinst_da_list = es.read_and_concat(l2cloud_tseries_paths, etinst_da_list)\n",
    "etinst_tseries = xa.concat(etinst_da_list, dim=\"date\").sortby('date')"
   ]
  },
  {
   "cell_type": "markdown",
   "metadata": {},
   "source": [
    "need to fix the above to not call .values"
   ]
  },
  {
   "cell_type": "code",
   "execution_count": 8,
   "metadata": {},
   "outputs": [],
   "source": [
    "#etdaily_tseries = eio.read_scenes(etdaily_tseries_paths)"
   ]
  },
  {
   "cell_type": "markdown",
   "metadata": {},
   "source": [
    "#### bit order for qa masks follows landsat, right to left for bit ordering, left to right for each double bit that represent conditions.\n",
    "https://www.usgs.gov/land-resources/nli/landsat/landsat-collection-1-level-1-quality-assessment-band?qt-science_support_page_related_con=0#qt-science_support_page_related_con"
   ]
  },
  {
   "cell_type": "code",
   "execution_count": 20,
   "metadata": {},
   "outputs": [],
   "source": [
    "ints_to_keep = get_good_qa_ints_to_keep()"
   ]
  },
  {
   "cell_type": "code",
   "execution_count": 21,
   "metadata": {},
   "outputs": [],
   "source": [
    "nonnan_count_without_masking = etinst_tseries.where(etinst_tseries != -1.0e13).sum()"
   ]
  },
  {
   "cell_type": "code",
   "execution_count": 25,
   "metadata": {},
   "outputs": [],
   "source": [
    "l2qa_mask = l2qa_tseries.isin(ints_to_keep)\n",
    "etinst_tseries_l2qamasked = etinst_tseries.where(l2qa_mask) * etinst_tseries.where(etinst_tseries != -1.0e13)"
   ]
  },
  {
   "cell_type": "code",
   "execution_count": 26,
   "metadata": {},
   "outputs": [],
   "source": [
    "nonnan_count_with_masking = etinst_tseries_l2qamasked.sum()"
   ]
  },
  {
   "cell_type": "code",
   "execution_count": 27,
   "metadata": {},
   "outputs": [
    {
     "data": {
      "text/plain": [
       "<xarray.DataArray 'ECO3ETPTJPL001_EVAPOTRANSPIRATION_PT_JPL_ETinst_doy2018210171256_aid0001-clipped-resampled.tif' ()>\n",
       "array(2451534937)"
      ]
     },
     "execution_count": 27,
     "metadata": {},
     "output_type": "execute_result"
    }
   ],
   "source": [
    "nonnan_count_without_masking.compute()"
   ]
  },
  {
   "cell_type": "code",
   "execution_count": 28,
   "metadata": {},
   "outputs": [
    {
     "data": {
      "text/plain": [
       "<xarray.DataArray 'ECO3ETPTJPL001_EVAPOTRANSPIRATION_PT_JPL_ETinst_doy2018210171256_aid0001-clipped-resampled.tif' ()>\n",
       "array(0., dtype=float32)"
      ]
     },
     "execution_count": 28,
     "metadata": {},
     "output_type": "execute_result"
    }
   ],
   "source": [
    "nonnan_count_with_masking.compute()"
   ]
  },
  {
   "cell_type": "code",
   "execution_count": 30,
   "metadata": {},
   "outputs": [],
   "source": [
    "l2qa_mask = l2qa_tseries.isin(ints_to_keep).compute()"
   ]
  },
  {
   "cell_type": "markdown",
   "metadata": {},
   "source": [
    "Need to interpret bits to set the appropriate masks"
   ]
  },
  {
   "cell_type": "code",
   "execution_count": 8,
   "metadata": {},
   "outputs": [
    {
     "data": {
      "text/plain": [
       "49094"
      ]
     },
     "execution_count": 8,
     "metadata": {},
     "output_type": "execute_result"
    }
   ],
   "source": [
    "np.uintc(np.max(l2qa_tseries[13,0].values))"
   ]
  },
  {
   "cell_type": "code",
   "execution_count": 9,
   "metadata": {},
   "outputs": [
    {
     "data": {
      "text/plain": [
       "<matplotlib.image.AxesImage at 0x7f4af08399b0>"
      ]
     },
     "execution_count": 9,
     "metadata": {},
     "output_type": "execute_result"
    },
    {
     "data": {
      "image/png": "[encoded data removed]",
      "text/plain": [
       "<Figure size 432x288 with 2 Axes>"
      ]
     },
     "metadata": {
      "needs_background": "light"
     },
     "output_type": "display_data"
    }
   ],
   "source": [
    "l2qa_tseries[13,0].plot.imshow()"
   ]
  },
  {
   "cell_type": "code",
   "execution_count": 10,
   "metadata": {},
   "outputs": [
    {
     "data": {
      "text/plain": [
       "<xarray.DataArray 'ECO2LSTE001_SDS_QC_doy2018210171256_aid0001-clipped-resampled.tif' (y: 6101, x: 6558)>\n",
       "dask.array<getitem, shape=(6101, 6558), dtype=int32, chunksize=(6101, 6558), chunktype=numpy.ndarray>\n",
       "Coordinates:\n",
       "    band     int64 1\n",
       "  * y        (y) float64 43.35 43.36 43.36 43.36 43.36 ... 47.19 47.2 47.2 47.2\n",
       "  * x        (x) float64 7.957 7.956 7.956 7.955 ... 3.829 3.829 3.828 3.827\n",
       "    date     datetime64[ns] 2018-08-15T10:32:21\n",
       "Attributes:\n",
       "    transform:      (-0.0006297774169670002, 0.0, 7.957237663378045, 0.0, 0.0...\n",
       "    crs:            +init=epsg:4326\n",
       "    res:            (-0.0006297774169670002, -0.0006297774169670006)\n",
       "    is_tiled:       0\n",
       "    nodatavals:     (-99999.0,)\n",
       "    scales:         (1.0,)\n",
       "    offsets:        (0.0,)\n",
       "    AREA_OR_POINT:  Area"
      ]
     },
     "execution_count": 10,
     "metadata": {},
     "output_type": "execute_result"
    }
   ],
   "source": [
    "l2qa_tseries[13,0]"
   ]
  },
  {
   "cell_type": "code",
   "execution_count": 11,
   "metadata": {},
   "outputs": [
    {
     "data": {
      "text/plain": [
       "<xarray.DataArray 'ECO3ETPTJPL001_EVAPOTRANSPIRATION_PT_JPL_ETinst_doy2018210171256_aid0001-clipped-resampled.tif' (date: 1, band: 1, y: 6101, x: 6558)>\n",
       "dask.array<getitem, shape=(1, 1, 6101, 6558), dtype=float32, chunksize=(1, 1, 6101, 6558), chunktype=numpy.ndarray>\n",
       "Coordinates:\n",
       "  * band     (band) int64 1\n",
       "  * y        (y) float64 43.35 43.36 43.36 43.36 43.36 ... 47.19 47.2 47.2 47.2\n",
       "  * x        (x) float64 7.957 7.956 7.956 7.955 ... 3.829 3.829 3.828 3.827\n",
       "  * date     (date) datetime64[ns] 2018-08-01T16:13:56\n",
       "Attributes:\n",
       "    transform:      (-0.0006297774169670002, 0.0, 7.957237663378045, 0.0, 0.0...\n",
       "    crs:            +init=epsg:4326\n",
       "    res:            (-0.0006297774169670002, -0.0006297774169670006)\n",
       "    is_tiled:       0\n",
       "    nodatavals:     (-9999999999999.0,)\n",
       "    scales:         (1.0,)\n",
       "    offsets:        (0.0,)\n",
       "    AREA_OR_POINT:  Area"
      ]
     },
     "execution_count": 11,
     "metadata": {},
     "output_type": "execute_result"
    }
   ],
   "source": [
    "etinst_tseries.sel(date=\"2018-08-01\")"
   ]
  },
  {
   "cell_type": "markdown",
   "metadata": {},
   "source": [
    "Need to merge ET arrays taken on same date together to reduce time coord duplicates that occur because of partial scene overlaps and large aoi. nanmean should replace nans with a true value, 2 or more true values with the mean for that day (should only happena t the overlaps, infrequently), and all nan slices with nan.\n",
    "\n",
    "Below I'm working on joining vpd and et by time and removing duplicates"
   ]
  },
  {
   "cell_type": "code",
   "execution_count": null,
   "metadata": {},
   "outputs": [],
   "source": [
    "et_tseries = et_tseries.rename({'date':'time'})\n",
    "\n",
    "et_tseries_ds = et_tseries.to_dataset().sel(band=1)\n",
    "\n",
    "et_tseries_ds['time'] = et_tseries_ds['time'].values.astype('datetime64[D]')\n",
    "\n",
    "duplicated_mask = pd.to_datetime(np.array(et_tseries_ds['time'])).duplicated(keep=False)\n",
    "\n",
    "duplicate_dates = np.unique(et_tseries_ds.isel(time=duplicated_mask)['time'])\n",
    "\n",
    "duplicated_da = et_tseries_ds.isel(time=duplicated_mask).sel()"
   ]
  },
  {
   "cell_type": "code",
   "execution_count": null,
   "metadata": {},
   "outputs": [],
   "source": [
    "duplicate_xarr_list = []\n",
    "for duplicate in duplicate_dates:\n",
    "    date = pd.to_datetime(duplicate).strftime(\"%Y-%m-%d\")\n",
    "    arr = et_tseries.sel(time=date)\n",
    "    arr = arr.where(arr != -1e+13) \n",
    "    duplicate_mean = arr.mean(dim=\"time\")\n",
    "    duplicate_mean = duplicate_mean.assign_coords({'time': duplicate})\n",
    "    duplicate_xarr_list.append(duplicate_mean)\n"
   ]
  },
  {
   "cell_type": "code",
   "execution_count": null,
   "metadata": {},
   "outputs": [],
   "source": [
    "mean_duplicate_xarr = xa.concat(duplicate_xarr_list, dim=\"time\")"
   ]
  },
  {
   "cell_type": "code",
   "execution_count": null,
   "metadata": {},
   "outputs": [],
   "source": [
    "et_tseries_ds.attrs['units'] = \"W/m^2\""
   ]
  },
  {
   "cell_type": "code",
   "execution_count": null,
   "metadata": {},
   "outputs": [],
   "source": [
    "et_tseries_ds"
   ]
  },
  {
   "cell_type": "code",
   "execution_count": null,
   "metadata": {},
   "outputs": [],
   "source": [
    "et_tseries_ds_dups = et_tseries_ds.isel(time=duplicated_mask).rename({\"ECO3ETPTJPL001_EVAPOTRANSPIRATION_PT_JPL_ETinst_doy2018233132423_aid0001-clipped-resampled.tif\":\"ECO3ETPTJPL\"})\n",
    "\n",
    "et_tseries_ds_no_dups = et_tseries_ds.isel(time=~duplicated_mask).rename({\"ECO3ETPTJPL001_EVAPOTRANSPIRATION_PT_JPL_ETinst_doy2018233132423_aid0001-clipped-resampled.tif\":\"ECO3ETPTJPL\"}) # gettign rid of duplicates in original et xarr\n",
    "\n",
    "et_tseries_ds_dups=et_tseries_ds_dups.where(et_tseries_ds_dups[\"ECO3ETPTJPL\"] != -1e+13) \n",
    "\n",
    "et_tseries_ds_no_dups=et_tseries_ds_no_dups.where(et_tseries_ds_no_dups[\"ECO3ETPTJPL\"] != -1e+13) "
   ]
  },
  {
   "cell_type": "code",
   "execution_count": null,
   "metadata": {},
   "outputs": [],
   "source": [
    "mean_duplicate_dataset = mean_duplicate_xarr.to_dataset().sel(band=1).rename({\"ECO3ETPTJPL001_EVAPOTRANSPIRATION_PT_JPL_ETinst_doy2018233132423_aid0001-clipped-resampled.tif\":\"ECO3ETPTJPL\"})"
   ]
  },
  {
   "cell_type": "code",
   "execution_count": null,
   "metadata": {},
   "outputs": [],
   "source": [
    "et_vpd_ds = xa.concat([et_tseries_ds_no_dups, mean_duplicate_dataset], dim=\"time\").sortby(\"time\")"
   ]
  },
  {
   "cell_type": "markdown",
   "metadata": {},
   "source": [
    "Profiling why there are edge effects between ET Daily Scenes"
   ]
  },
  {
   "cell_type": "code",
   "execution_count": null,
   "metadata": {},
   "outputs": [],
   "source": [
    "duplicate_dates = [pd.to_datetime(date).strftime(\"%Y-%m-%d\") for date in duplicate_dates]\n"
   ]
  },
  {
   "cell_type": "code",
   "execution_count": null,
   "metadata": {},
   "outputs": [],
   "source": [
    "resampled_data_arrays[0]['date'].dt.month.values"
   ]
  },
  {
   "cell_type": "code",
   "execution_count": null,
   "metadata": {},
   "outputs": [],
   "source": [
    "for path in whole_tif_etdaily_paths:\n",
    "    if \"2018222\" in str(path):\n",
    "        print(path)"
   ]
  },
  {
   "cell_type": "code",
   "execution_count": null,
   "metadata": {},
   "outputs": [],
   "source": [
    "resampled_data_arrays_profile = []\n",
    "for da in resampled_data_arrays:\n",
    "    if str(da.date.dt.month.values) == \"8\" and str(da.date.dt.year.values) == \"2018\" and str(da.date.dt.day.values) == \"10\":\n",
    "        resampled_data_arrays_profile.append(da.where(da!=-1e+13))"
   ]
  },
  {
   "cell_type": "code",
   "execution_count": null,
   "metadata": {},
   "outputs": [],
   "source": [
    "resampled_data_arrays_profile[0][0].plot.imshow()"
   ]
  },
  {
   "cell_type": "code",
   "execution_count": null,
   "metadata": {},
   "outputs": [],
   "source": [
    "resampled_data_arrays_profile[1][0].plot.imshow()"
   ]
  },
  {
   "cell_type": "code",
   "execution_count": null,
   "metadata": {},
   "outputs": [],
   "source": [
    "resampled_data_arrays_profile[-1][0].plot.imshow()"
   ]
  },
  {
   "cell_type": "markdown",
   "metadata": {},
   "source": [
    "Instantaeous uncertainty"
   ]
  },
  {
   "cell_type": "code",
   "execution_count": null,
   "metadata": {},
   "outputs": [],
   "source": [
    "inst_uncertainty_paths = [\"/mnt/ecostress/rhone-ecostress-data/ECO3ETPTJPL/ECO3ETPTJPL.001_EVAPOTRANSPIRATION_PT_JPL_ETinstUncertainty_doy2018222131552_aid0001.tif\",\n",
    "\"/mnt/ecostress/rhone-ecostress-data/ECO3ETPTJPL/ECO3ETPTJPL.001_EVAPOTRANSPIRATION_PT_JPL_ETinstUncertainty_doy2018222180613_aid0001.tif\",\n",
    "\"/mnt/ecostress/rhone-ecostress-data/ECO3ETPTJPL/ECO3ETPTJPL.001_EVAPOTRANSPIRATION_PT_JPL_ETinstUncertainty_doy2018222180704_aid0001.tif\"]"
   ]
  },
  {
   "cell_type": "code",
   "execution_count": null,
   "metadata": {},
   "outputs": [],
   "source": [
    "inst_uncertainty_paths = [Path(path) for path in inst_uncertainty_paths]"
   ]
  },
  {
   "cell_type": "code",
   "execution_count": null,
   "metadata": {},
   "outputs": [],
   "source": [
    "clipped_uncertainty_paths = eio.clip_and_save(inst_uncertainty_paths, bounds_tuple, filter_nan = True, outDir=Path('/home/ryan/work/'))"
   ]
  },
  {
   "cell_type": "code",
   "execution_count": null,
   "metadata": {},
   "outputs": [],
   "source": [
    "uncertainty_scenes = eio.read_scenes([Path(path) for path in clipped_uncertainty_paths])\n"
   ]
  },
  {
   "cell_type": "code",
   "execution_count": null,
   "metadata": {},
   "outputs": [],
   "source": [
    "uncertainty_scenes[0][0].attrs['units'] = \"W/m^2\"\n",
    "uncertainty_scenes[0][0].plot.imshow(figsize=(10,10))"
   ]
  },
  {
   "cell_type": "code",
   "execution_count": null,
   "metadata": {},
   "outputs": [],
   "source": [
    "uncertainty_scenes[1][0].plot.imshow(figsize=(10,10))"
   ]
  },
  {
   "cell_type": "code",
   "execution_count": null,
   "metadata": {},
   "outputs": [],
   "source": [
    "uncertainty_scenes[2][0].plot.imshow(figsize=(10,10))"
   ]
  },
  {
   "cell_type": "markdown",
   "metadata": {},
   "source": [
    "Plotting histograms where scenes intersect"
   ]
  },
  {
   "cell_type": "code",
   "execution_count": null,
   "metadata": {},
   "outputs": [],
   "source": [
    "date_to_plot = duplicate_dates[1]\n",
    "n_scenes = len(et_tseries_ds_dups.sel(time=date_to_plot)['time'])\n",
    "data_to_plot = et_tseries_ds_dups[\"ECO3ETPTJPL\"].sel(time=date_to_plot).drop(\"band\")"
   ]
  },
  {
   "cell_type": "code",
   "execution_count": null,
   "metadata": {},
   "outputs": [],
   "source": [
    "valid_intersect_data = data_to_plot.where((data_to_plot[0] > 0) & (data_to_plot[1] > 0) & (data_to_plot[2] > 0))"
   ]
  },
  {
   "cell_type": "code",
   "execution_count": null,
   "metadata": {},
   "outputs": [],
   "source": [
    "f, ax = plt.subplots(1)\n",
    "xa.plot.hist(valid_intersect_data[0],ax=ax, alpha=.6, bins = 25)\n",
    "xa.plot.hist(valid_intersect_data[1],ax=ax, alpha=.6, bins = 25)\n",
    "xa.plot.hist(valid_intersect_data[2],ax=ax, alpha=.6, bins = 25)\n",
    "plt.title(\"Instantaneous ET Disagreement between the intersection of 3 Ecostress scenes on August 10, 2018, France\")"
   ]
  },
  {
   "cell_type": "code",
   "execution_count": null,
   "metadata": {},
   "outputs": [],
   "source": [
    "data_to_plot['time'] = [0, 1, 2]\n",
    "data_to_plot.attrs['units'] = \"W/m^2\"\n",
    "data_to_plot.plot.imshow(x='x', y='y', col='time', col_wrap=n_scenes, robust=True, figsize=(20,8))\n",
    "# plt.title(f\"{n_scenes} individual scenes for date {date_to_plot}\", fontsize=20)"
   ]
  },
  {
   "cell_type": "code",
   "execution_count": null,
   "metadata": {},
   "outputs": [],
   "source": [
    "f,ax = plt.subplots(1)\n",
    "date_to_plot = duplicate_dates[1]\n",
    "et_vpd_ds[\"ECO3ETPTJPL\"].sel(time=date_to_plot).plot.imshow(ax=ax)\n",
    "f.set_size_inches(18.5, 10.5)\n",
    "n_scenes = len(et_tseries_ds_dups.sel(time=date_to_plot)['time'])\n",
    "plt.title(f\"{n_scenes} scenes for date {date_to_plot}, mean taken at overlaps\", fontsize=20)"
   ]
  },
  {
   "cell_type": "code",
   "execution_count": null,
   "metadata": {},
   "outputs": [],
   "source": []
  },
  {
   "cell_type": "markdown",
   "metadata": {},
   "source": [
    "Plotting ecostress availability"
   ]
  },
  {
   "cell_type": "code",
   "execution_count": null,
   "metadata": {},
   "outputs": [],
   "source": [
    "et_tseries = et_tseries.sel(band=1)"
   ]
  },
  {
   "cell_type": "code",
   "execution_count": null,
   "metadata": {},
   "outputs": [],
   "source": [
    "et_2018_may_sept=et_tseries.sel(date=slice(\"2018-06-01\", \"2018-09-30\"))\n",
    "\n",
    "et_2018_may_sept=et_2018_may_sept.chunk(chunks={\"date\": 101, \"y\": 1000, \"x\": 1000})\n",
    "\n",
    "et_2018_may_sept = et_2018_may_sept.where(et_2018_may_sept > 0)\n",
    "\n",
    "et_nonnan_count = ~np.isnan(et_2018_may_sept)\n",
    "\n",
    "true_count = et_nonnan_count.astype(bool).sum(dim=\"date\")\n",
    "\n",
    "true_count_c = true_count.compute()\n",
    "\n",
    "f, ax = plt.subplots(1)\n",
    "true_count_c.plot.imshow(ax=ax)\n",
    "plt.title(\"Number of ECOSTRESS Observations, May-Sept 2018\")\n",
    "france_river_lines.plot(ax=ax, color=\"red\")\n",
    "f.set_size_inches(18.5, 10.5)"
   ]
  },
  {
   "cell_type": "markdown",
   "metadata": {},
   "source": [
    "Aggregating hourly data to dekad"
   ]
  },
  {
   "cell_type": "code",
   "execution_count": null,
   "metadata": {},
   "outputs": [],
   "source": [
    "pev_dekad = met_dataset['pev'].resample(time='1D').sum().resample(time='10D').mean()\n",
    "\n",
    "pev_dekad_2018 = pev_dekad.sel(time=slice(\"2018-01-01\", \"2018-10-01\"))\n",
    "\n",
    "met_dataset['pev'].sel(time=\"2019-04-01\")\n",
    "\n",
    "pev_dekad_2019.plot(x='longitude', y='latitude', col='time', col_wrap=5)"
   ]
  },
  {
   "cell_type": "markdown",
   "metadata": {},
   "source": [
    "## pretty ET plotting"
   ]
  },
  {
   "cell_type": "code",
   "execution_count": null,
   "metadata": {},
   "outputs": [],
   "source": [
    "from matplotlib.colors import LinearSegmentedColormap\n",
    "import matplotlib.pyplot as plt\n",
    "%matplotlib inline\n",
    "\n",
    "ETcolors = [\"#f6e8c3\", \"#d8b365\", \"#99974a\", \"#53792d\", \"#6bdfd2\", \"#1839c5\"]\n",
    "ETcmap = LinearSegmentedColormap.from_list(\"ET\", ETcolors)\n",
    "date_utc = pd.to_datetime(et['date'].values)\n",
    "layer_type = et.attrs['filename'].split(\"_\")[-3]\n",
    "title = 'ECO3ETPTJPL Evapotranspiration'\n",
    "\n",
    "fig = plt.figure(figsize=(9.7,7.6))                                                       # Set the figure size (x,y)\n",
    "fig.suptitle(f'{title} ({layer_type}) \\n at {date_utc}', fontsize=22)  # Add title for the plots\n",
    "plt.axis('off')                                                                           # Remove axes from plot\n",
    "im = plt.imshow(et.sel(band=1), cmap=ETcmap);                                                        # Plot array using colormap\n",
    "# plt.scatter(Tcol, Trow, color=\"black\", marker='x')                                        # Plot tower location\n",
    "# Add a colormap legend\n",
    "plt.colorbar(im, orientation='horizontal', fraction=0.05, pad=0.004, label=f\"ET ({et.attrs['units']})\", shrink=0.6).outline.set_visible(True)"
   ]
  },
  {
   "cell_type": "code",
   "execution_count": null,
   "metadata": {},
   "outputs": [],
   "source": []
  },
  {
   "cell_type": "code",
   "execution_count": null,
   "metadata": {},
   "outputs": [],
   "source": []
  },
  {
   "cell_type": "code",
   "execution_count": null,
   "metadata": {},
   "outputs": [],
   "source": []
  },
  {
   "cell_type": "code",
   "execution_count": null,
   "metadata": {},
   "outputs": [],
   "source": []
  },
  {
   "cell_type": "code",
   "execution_count": null,
   "metadata": {},
   "outputs": [],
   "source": []
  },
  {
   "cell_type": "markdown",
   "metadata": {},
   "source": [
    "## Code graveyard"
   ]
  },
  {
   "cell_type": "markdown",
   "metadata": {},
   "source": [
    "trying to plot xarray image data and geopandas data with ipyleaflet but it can't do image overlays yet (unless it comes from a server via url potentially)"
   ]
  },
  {
   "cell_type": "code",
   "execution_count": null,
   "metadata": {},
   "outputs": [],
   "source": [
    "import ipyleaflet as ipyl\n",
    "x = france_river_lines.unary_union.envelope.centroid.xy[0][0]\n",
    "y = france_river_lines.unary_union.envelope.centroid.xy[1][0]\n",
    "e, n, w, s =true_count_c.rio.bounds()\n",
    "m = ipyl.Map(center = (y,x), zoom=6)\n",
    "\n",
    "rivers_data = ipyl.GeoData(geo_dataframe = france_river_lines,\n",
    "                   style={'color': 'purple', 'opacity':3, 'weight':1.9, 'dashArray':'2', 'fillOpacity':0.6},\n",
    "                   hover_style={'fillColor': 'red' , 'fillOpacity': 0.2},\n",
    "                   name = 'Rivers')\n",
    "m.add_layer(rivers_data)\n",
    "plt.imsave(\"observation_count.jpeg\",true_count_c)\n",
    "obs_heatmap = ipyl.ImageOverlay(\n",
    "    url=\"observation_count.jpeg\",\n",
    "    bounds=((s, w), (n, e))\n",
    ")\n",
    "\n",
    "m.add_layer(obs_heatmap)\n",
    "m"
   ]
  },
  {
   "cell_type": "code",
   "execution_count": null,
   "metadata": {},
   "outputs": [],
   "source": []
  },
  {
   "cell_type": "markdown",
   "metadata": {},
   "source": [
    "trying to plot ecostress DataArray with geopandas shapes"
   ]
  },
  {
   "cell_type": "code",
   "execution_count": null,
   "metadata": {},
   "outputs": [],
   "source": [
    "def cartopy_project_geo_df(df, crs):\n",
    "\n",
    "    # This can be converted into a `proj4` string/dict compatible with GeoPandas\n",
    "    crs_proj4 = crs.proj4_init\n",
    "    return df.to_crs(crs_proj4)\n",
    "\n",
    "crs = ccrs.PlateCarree()\n",
    "aoi_projected = cartopy_project_geo_df(aoi, crs)\n",
    "france_rivers_df_projected = cartopy_project_geo_df(france_rivers_df, crs)\n",
    "# base = aoi_projected.plot(color=\"grey\", edgecolor=\"black\")\n",
    "# france_rivers_df_projected.plot(ax=base, color=\"blue\")\n",
    "\n",
    "\n",
    "import cartopy.crs as ccrs\n",
    "import matplotlib.pyplot as plt\n",
    "ax = plt.axes(projection=crs)\n",
    "all_et_daily[14].sel(band=1).plot.imshow(ax=ax, transform=crs)\n",
    "# ax.add_geometries(aoi_projected['geometry'], crs=crs)\n",
    "ax.add_geometries(france_rivers_df_projected['geometry'], crs=crs)"
   ]
  },
  {
   "cell_type": "code",
   "execution_count": null,
   "metadata": {},
   "outputs": [],
   "source": [
    "def mask_NA_values():\n",
    "    \"\"\"\n",
    "    Daily ET products have both nan values from where there are clouds \n",
    "    and -1e+13 for where the ecostress swath was clipped during the ordering process\n",
    "    \"\"\"\n",
    "    masked_et = np.ma.masked_where(et.sel(band=1) == np.nan, et.sel(band=1))\n",
    "    masked_et = np.ma.masked_where(masked_et == -1e+13, masked_et)"
   ]
  },
  {
   "cell_type": "code",
   "execution_count": null,
   "metadata": {},
   "outputs": [],
   "source": [
    "base = aoi.plot(color=\"grey\", edgecolor=\"black\")\n",
    "\n",
    "france_rivers_df.plot(ax=base, color=\"blue\")"
   ]
  }
 ],
 "metadata": {
  "kernelspec": {
   "display_name": "Python 3",
   "language": "python",
   "name": "python3"
  },
  "language_info": {
   "codemirror_mode": {
    "name": "ipython",
    "version": 3
   },
   "file_extension": ".py",
   "mimetype": "text/x-python",
   "name": "python",
   "nbconvert_exporter": "python",
   "pygments_lexer": "ipython3",
   "version": "3.6.7"
  }
 },
 "nbformat": 4,
 "nbformat_minor": 4
}
