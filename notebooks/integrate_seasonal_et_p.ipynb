{
 "cells": [
  {
   "cell_type": "code",
   "execution_count": null,
   "metadata": {},
   "outputs": [],
   "source": [
    "import xarray as xr\n",
    "import rioxarray as rio\n",
    "import glob\n",
    "import os\n",
    "import numpy as np\n",
    "import requests\n",
    "import geopandas as gpd\n",
    "from pathlib import Path\n",
    "from datetime import datetime\n",
    "%matplotlib inline"
   ]
  },
  {
   "cell_type": "code",
   "execution_count": null,
   "metadata": {},
   "outputs": [],
   "source": [
    "all_scenes_f = Path('/home/rave/serdp/rhone/rhone-ecostress/rasters/chirps-clipped')\n",
    "\n",
    "all_precip_paths = list(all_scenes_f.glob(\"*\"))\n",
    "# for some reason the fll value is not correct. this is the correct bad value to mask by\n",
    "testf = all_precip_paths[0]\n",
    "x = rio.open_rasterio(testf)\n",
    "badvalue = np.unique(x.where(x != x._FillValue).sel(band=1))[0]"
   ]
  },
  {
   "cell_type": "code",
   "execution_count": null,
   "metadata": {},
   "outputs": [],
   "source": [
    "def chirps_path_date(path):\n",
    "    _, _, year, month, day, _ = path.name.split(\".\")\n",
    "    day = day.split(\"-\")[0]\n",
    "    return datetime(int(year), int(month), int(day))\n",
    "\n",
    "\n",
    "def open_chirps(path):\n",
    "    data_array = rio.open_rasterio(path) #chunks makes i lazyily executed\n",
    "    data_array = data_array.sel(band=1).drop(\"band\") # gets rid of old coordinate dimension since we need bands to have unique coord ids\n",
    "    data_array[\"date\"] = chirps_path_date(path) # makes a new coordinate\n",
    "    return data_array.expand_dims({\"date\":1}) # makes this coordinate a dimension\n",
    "\n"
   ]
  },
  {
   "cell_type": "markdown",
   "metadata": {},
   "source": [
    "### data is not tiled so not a good idea to use chunking\n",
    "https://github.com/pydata/xarray/issues/2314"
   ]
  },
  {
   "cell_type": "code",
   "execution_count": null,
   "metadata": {},
   "outputs": [],
   "source": [
    "import rasterio\n",
    "with rasterio.open(testf) as src:\n",
    "    print(src.profile)"
   ]
  },
  {
   "cell_type": "code",
   "execution_count": null,
   "metadata": {},
   "outputs": [],
   "source": [
    "len(all_precip_paths) * 41.7 / 10e3"
   ]
  },
  {
   "cell_type": "code",
   "execution_count": null,
   "metadata": {},
   "outputs": [],
   "source": [
    "%timeit open_chirps(testf)"
   ]
  },
  {
   "cell_type": "code",
   "execution_count": null,
   "metadata": {},
   "outputs": [],
   "source": [
    "daily_chirps_arrs = [open_chirps(path) for path in all_precip_paths]"
   ]
  },
  {
   "cell_type": "code",
   "execution_count": null,
   "metadata": {},
   "outputs": [],
   "source": [
    "all_chirps_arr = xr.concat(daily_chirps_arrs, dim=\"date\")"
   ]
  },
  {
   "cell_type": "code",
   "execution_count": null,
   "metadata": {},
   "outputs": [],
   "source": [
    "testf1 = all_precip_paths[1]\n",
    "\n",
    "y = rio.open_rasterio(testf1, chunks={'band': 1})\n",
    "y.where(y != badvalue).sel(band=1).plot.imshow()"
   ]
  },
  {
   "cell_type": "code",
   "execution_count": null,
   "metadata": {},
   "outputs": [],
   "source": [
    "import pandas as pd\n",
    "\n",
    "all_scene_ids = [str(i) for i in list(all_scenes_f.glob(\"L*\"))]\n",
    "df = pd.DataFrame({\"scene_id\":all_scene_ids}).reindex()\n",
    "split_vals_series = df.scene_id.str.split(\"/\")\n",
    "\n",
    "dff = pd.DataFrame(split_vals_series.to_list(), columns=['_', '__', '___', '____', '_____', '______', 'fname'])\n",
    "\n",
    "df['date'] = dff['fname'].str.slice(10,18)\n",
    "\n",
    "df['pathrow'] = dff['fname'].str.slice(4,10)\n",
    "\n",
    "df['sensor'] = dff['fname'].str.slice(0,4)\n",
    "\n",
    "df['datetime'] = pd.to_datetime(df['date'])\n",
    "\n",
    "df = df.set_index(\"datetime\").sort_index()"
   ]
  },
  {
   "cell_type": "code",
   "execution_count": null,
   "metadata": {},
   "outputs": [],
   "source": [
    "marc_df = df['2014-01-01':'2019-12-31']"
   ]
  },
  {
   "cell_type": "code",
   "execution_count": null,
   "metadata": {},
   "outputs": [],
   "source": [
    "marc_df = marc_df[marc_df['sensor']==\"LC08\"]"
   ]
  },
  {
   "cell_type": "code",
   "execution_count": null,
   "metadata": {},
   "outputs": [],
   "source": [
    "\n",
    "x.where(x != badvalue).sel(band=1).plot.imshow()"
   ]
  }
 ],
 "metadata": {
  "kernelspec": {
   "display_name": "geo",
   "language": "python",
   "name": "geo"
  },
  "language_info": {
   "codemirror_mode": {
    "name": "ipython",
    "version": 3
   },
   "file_extension": ".py",
   "mimetype": "text/x-python",
   "name": "python",
   "nbconvert_exporter": "python",
   "pygments_lexer": "ipython3",
   "version": "3.6.7"
  }
 },
 "nbformat": 4,
 "nbformat_minor": 4
}
