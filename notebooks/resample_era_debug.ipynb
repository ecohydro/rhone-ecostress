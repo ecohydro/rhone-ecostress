{
 "cells": [
  {
   "cell_type": "code",
   "execution_count": 1,
   "metadata": {},
   "outputs": [
    {
     "name": "stderr",
     "output_type": "stream",
     "text": [
      "/home/rave/rhone-ecostress/src/data/ecostress_stack.py:78: SettingWithCopyWarning: \n",
      "A value is trying to be set on a copy of a slice from a DataFrame.\n",
      "Try using .loc[row_indexer,col_indexer] = value instead\n",
      "\n",
      "See the caveats in the documentation: http://pandas.pydata.org/pandas-docs/stable/user_guide/indexing.html#returning-a-view-versus-a-copy\n",
      "  france_rivers_df['geometry'] = buffered_france_rivers_df\n"
     ]
    },
    {
     "name": "stdout",
     "output_type": "stream",
     "text": [
      "starting calculation of vpd and resampling...\n",
      "starting resampling\n"
     ]
    }
   ],
   "source": [
    "import pandas as pd\n",
    "import numpy as np\n",
    "import xarray as xa\n",
    "from pathlib import Path\n",
    "import src.data.ecostress_io as eio\n",
    "import src.data.ecostress_stack as es\n",
    "import src.data.era_stack_resample as esr\n",
    "import rioxarray\n",
    "import sys\n",
    "import geopandas as gpd\n",
    "import json\n",
    "import dask\n",
    "from dask.distributed import Client\n",
    "import matplotlib.pyplot as plt\n",
    "xa.set_options(display_style='html')\n",
    "n_partitions = 8 # set in the files\n",
    "root_path = Path(\"/raid/scratch/rave/rhone-ecostress/rhone-ecostress-data\")\n",
    "reanalysis_path = Path(root_path, \"era5-download.nc\")\n",
    "bounds_tuple = (4, 42, 7, 47)\n",
    "xmin, ymin, xmax, ymax = bounds_tuple  # hardcoding since concattenating 1000s of ecostress files with different overlaps hangs\n",
    "\n",
    "rivers_df = gpd.read_file(Path(root_path, \"europe_rivers/eu_river.shp\"))\n",
    "\n",
    "rivers_df['R_ID'] = rivers_df['R_ID'].apply(int).apply(str)\n",
    "\n",
    "france_rivers_df = rivers_df.cx[xmin:xmax, ymin:ymax]\n",
    "\n",
    "aoi = es.filter_countries_for_france_aoi(root_path)\n",
    "\n",
    "aoi.crs = france_rivers_df.crs # setting crs for aoi\n",
    "\n",
    "l3qa_path = Path(root_path, \"ECO3ANCQA\")\n",
    "et_path = Path(root_path, \"ECO3ETPTJPL\")\n",
    "esi_path = Path(root_path, \"ECO4ESIPTJPL\")\n",
    "l2_path = Path(root_path, \"ECO2\")\n",
    "\n",
    "tempdir_daily = root_path/\"tmp-daily-nearest\"\n",
    "whole_tif_etdaily_paths, csv_et_paths, xml_et_paths = eio.separate_by_pattern(et_path, \"*ETdaily*.tif\")\n",
    "\n",
    "tempdir_inst = root_path/\"tmp-inst-nearest\"\n",
    "whole_tif_etinst_paths, csv_etinst_paths, xml_etinst_paths = eio.separate_by_pattern(et_path, \"*ETinst_*.tif\")\n",
    "\n",
    "tempdir_inst_uncertainty = root_path/\"tmp-inst_uncertainty-nearest\"\n",
    "whole_tif_etinst_uncertainty_paths, csv_etinst_uncertainty_paths, xml_etinst_uncertainty_paths = eio.separate_by_pattern(et_path, \"*ETinstUncertainty*.tif\")\n",
    "\n",
    "tempdir_l3qa = root_path/\"tmp-l3qa\"\n",
    "whole_tif_l3qa_paths, csv_qa_paths, xml_qa_paths = eio.separate_by_pattern(l3qa_path)\n",
    "\n",
    "tempdir_l2qa = root_path/\"tmp-l2qa\"\n",
    "whole_tif_l2qa_paths, csv_l2qa_paths, xml_l2qa_paths = eio.separate_by_pattern(l2_path, \"*SDS_QC*.tif\")\n",
    "\n",
    "tempdir_l2cloud = root_path/\"tmp-l2cloud\"\n",
    "whole_tif_l2cloud_paths, csv_l2cloud_paths, xml_l2cloud_paths = eio.separate_by_pattern(l2_path, \"*SDS_CloudMask*.tif\")\n",
    "\n",
    "x = eio.read_ecostress_scene(whole_tif_etinst_uncertainty_paths[0])\n",
    "resolution = x.rio.resolution()\n",
    "x.close()\n",
    "aoi_grid = es.rasterize_buffer_river_df(france_rivers_df, resolution, buffer=5000)\n",
    "\n",
    "from rasterio.enums import Resampling\n",
    "# etdaily_tseries_paths = es.clip_resample_ecostress(whole_tif_etdaily_paths, bounds_tuple, aoi_grid, filter_nan=True, tempdir=tempdir_daily, resampling_method=Resampling.nearest)\n",
    "etinst_tseries_paths = es.clip_resample_ecostress(whole_tif_etinst_paths, bounds_tuple, aoi_grid, filter_nan=True, tempdir=tempdir_inst, resampling_method=Resampling.nearest)\n",
    "# etinst_uncertainty_tseries_paths = es.clip_resample_ecostress(whole_tif_etinst_uncertainty_paths, bounds_tuple, aoi_grid, filter_nan=True, tempdir=tempdir_inst_uncertainty , resampling_method=Resampling.nearest)\n",
    "# l3qa_tseries_paths = es.clip_resample_ecostress_no_dask(whole_tif_l3qa_paths, bounds_tuple, aoi_grid, filter_nan=True, tempdir=tempdir_l3qa, resampling_method=Resampling.nearest)\n",
    "# l2qa_tseries_paths = es.clip_resample_ecostress_no_dask(whole_tif_l2qa_paths, bounds_tuple, aoi_grid, filter_nan=True, tempdir=tempdir_l2qa, resampling_method=Resampling.nearest)\n",
    "# l2cloud_tseries_paths = es.clip_resample_ecostress_no_dask(whole_tif_l2cloud_paths, bounds_tuple, aoi_grid, filter_nan=True, tempdir=tempdir_l2cloud, resampling_method=Resampling.nearest)\n",
    "\n",
    "etinst_da_list = eio.read_scenes(etinst_tseries_paths, chunks = {\"band\":1})\n",
    "# l3qa_tseries, etinst_da_list = es.read_and_concat(l3qa_tseries_paths, etinst_da_list)\n",
    "# l2qa_tseries, etinst_da_list = es.read_and_concat(l2qa_tseries_paths, etinst_da_list)\n",
    "# l2cloud_tseries, etinst_da_list = es.read_and_concat(l2cloud_tseries_paths, etinst_da_list)\n",
    "# etinst_uncertainty_tseries, etinst_da_list = es.read_and_concat(etinst_uncertainty_tseries_paths, etinst_da_list)\n",
    "etinst_tseries = xa.concat(etinst_da_list, dim=\"date\").sortby('date')\n",
    "\n",
    "dataset_name = \"Hourly_VPD_6am-8pm_utc_Resampled.nc\"\n",
    "\n",
    "print(\"starting calculation of vpd and resampling...\")\n",
    "\n",
    "vpd = esr.read_era_land_and_vpd(reanalysis_path)\n",
    "hours_to_keep = [5, 6, 7, 8, 9, 10, 11, 12, 13, 14, 15, 16, 17, 18, 19]\n",
    "daytime_mask = np.isin(vpd.time.dt.hour, hours_to_keep)\n",
    "\n",
    "daytime_vpd = vpd.isel(time=daytime_mask)\n",
    "daytime_vpd = daytime_vpd.sel(time=slice(\"2018-09-01\", \"2018-09-30\"))\n",
    "daytime_vpd = daytime_vpd.rio.set_crs(4326)\n",
    "\n",
    "daytime_vpd = daytime_vpd.rename({\"latitude\":\"y\", \"longitude\":\"x\"})\n",
    "source_da = etinst_tseries[0]\n",
    "print(\"starting resampling\")\n",
    "def wrapper(da, source_da, resampling= Resampling.bilinear):\n",
    "    da = da.rio.set_crs(4326)\n",
    "    return da.rio.reproject_match(source_da, resampling = resampling)\n",
    "resampled_vpd = wrapper(daytime_vpd, source_da)"
   ]
  },
  {
   "cell_type": "code",
   "execution_count": 2,
   "metadata": {},
   "outputs": [
    {
     "name": "stdout",
     "output_type": "stream",
     "text": [
      "done\n"
     ]
    }
   ],
   "source": [
    "resampled_vpd.name = dataset_name\n",
    "dest_path = root_path/\"September-Hourly_VPD_10am-3pm_Paris_Time_Resampled.nc\"\n",
    "eio.write_netcdf(resampled_vpd, str(dest_path))\n",
    "\n",
    "del resampled_vpd\n",
    "\n",
    "print(\"done\")"
   ]
  },
  {
   "cell_type": "code",
   "execution_count": null,
   "metadata": {},
   "outputs": [],
   "source": []
  }
 ],
 "metadata": {
  "kernelspec": {
   "display_name": "geo",
   "language": "python",
   "name": "geo"
  },
  "language_info": {
   "codemirror_mode": {
    "name": "ipython",
    "version": 3
   },
   "file_extension": ".py",
   "mimetype": "text/x-python",
   "name": "python",
   "nbconvert_exporter": "python",
   "pygments_lexer": "ipython3",
   "version": "3.6.7"
  }
 },
 "nbformat": 4,
 "nbformat_minor": 2
}
