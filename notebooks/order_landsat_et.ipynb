{
 "cells": [
  {
   "cell_type": "markdown",
   "metadata": {},
   "source": [
    "#### get scene ids for bbox area and bein and end datetimes"
   ]
  },
  {
   "cell_type": "code",
   "execution_count": null,
   "metadata": {},
   "outputs": [],
   "source": [
    "from lsru import Usgs\n",
    "import datetime\n",
    "import pandas as pd\n",
    "\n",
    "# Define query extent\n",
    "bbox = (4, 43, 6, 47) # bb for rhone. left bottom right top\n",
    "\n",
    "# Instantiate Usgs class and login\n",
    "usgs = Usgs()\n",
    "usgs.login()\n",
    "all_scene_ids = []\n",
    "for l_num in [5, 7, 8]:\n",
    "    coll_name = Usgs.get_collection_name(l_num)\n",
    "    # Query the Usgs api to find scene intersecting with the spatio-temporal window\n",
    "    scene_list = usgs.search(collection=coll_name,\n",
    "                             bbox=bbox,\n",
    "                             begin=datetime.datetime(1985,1,1),\n",
    "                             end=datetime.datetime(2020,11,3),\n",
    "                             max_results=10000,\n",
    "                             max_cloud_cover=5)\n",
    "\n",
    "    # Extract Landsat scene ids for each hit from the metadata\n",
    "    scene_ids = [x['displayId'] for x in scene_list]\n",
    "    all_scene_ids.extend(scene_ids)"
   ]
  },
  {
   "cell_type": "markdown",
   "metadata": {},
   "source": [
    "#### Subset by tier (quality) and daytime by using the path/row (needs to change depending on the bbox)"
   ]
  },
  {
   "cell_type": "code",
   "execution_count": null,
   "metadata": {},
   "outputs": [],
   "source": [
    "df = pd.DataFrame({\"scene_id\":all_scene_ids}).reindex()\n",
    "split_vals_series = df.scene_id.str.split(\"_\")\n",
    "\n",
    "# https://www.usgs.gov/faqs/how-can-i-tell-difference-between-landsat-collections-data-and-landsat-data-i-have-downloaded?qt-news_science_products=0#qt-news_science_products\n",
    "df = pd.DataFrame(split_vals_series.to_list(), columns=['sensor_satellite', 'correction_level', 'path_row', 'acquisition_date', 'espa_date', 'collection_number', 'tier'])\n",
    "df['scene_id'] = all_scene_ids\n",
    "\n",
    "df = df[df['path_row'].str.contains(\"19\")] # daytime pathrows\n",
    "len(df)\n",
    "\n",
    "df = df[df['tier']=='T1'] # highest quality data with <12 RMSE terrain correction\n",
    "\n",
    "len(df)"
   ]
  },
  {
   "cell_type": "markdown",
   "metadata": {},
   "source": [
    "#### Scene availability plots"
   ]
  },
  {
   "cell_type": "code",
   "execution_count": null,
   "metadata": {},
   "outputs": [],
   "source": [
    "df['datetime'] = pd.to_datetime(df['acquisition_date'])\n",
    "df['year'] = df.datetime.apply(lambda x: x.year)\n",
    "df['month'] = df.datetime.apply(lambda x: x.month)"
   ]
  },
  {
   "cell_type": "code",
   "execution_count": null,
   "metadata": {},
   "outputs": [],
   "source": [
    "import altair as alt\n",
    "alt.Chart(df).mark_bar().encode(\n",
    "    x='year',\n",
    "    color='sensor_satellite',\n",
    "    y='count()'\n",
    ").interactive()"
   ]
  },
  {
   "cell_type": "code",
   "execution_count": null,
   "metadata": {},
   "outputs": [],
   "source": [
    "alt.Chart(df).mark_bar().encode(\n",
    "    x='month',\n",
    "    color='sensor_satellite',\n",
    "    y='count()'\n",
    ").interactive()"
   ]
  },
  {
   "cell_type": "markdown",
   "metadata": {},
   "source": [
    "### data only available in CONUS"
   ]
  },
  {
   "cell_type": "code",
   "execution_count": null,
   "metadata": {},
   "outputs": [],
   "source": [
    "from lsru import Espa\n",
    "from pprint import pprint\n",
    "\n",
    "# Instantiate Espa class\n",
    "espa = Espa()\n",
    "\n",
    "# Place order (full scenes, no reprojection, sr and pixel_qa)\n",
    "order = espa.order(scene_list=df['scene_id'].to_list(), products=['et', 'sr', 'pixel_qa', 'sr_nbr2', 'sr_evi', 'source_metadata', 'stats'])\n",
    "print(order.orderid)"
   ]
  },
  {
   "cell_type": "code",
   "execution_count": null,
   "metadata": {},
   "outputs": [],
   "source": [
    "for order in espa.orders:\n",
    "    # Orders have their own class with attributes and methods\n",
    "    print('%s: %s' % (order.orderid, order.status))"
   ]
  },
  {
   "cell_type": "markdown",
   "metadata": {},
   "source": [
    "### Needs to be inspected and adjusted for each particular area"
   ]
  },
  {
   "cell_type": "code",
   "execution_count": null,
   "metadata": {},
   "outputs": [],
   "source": [
    "pprint(espa.projections['utm'])"
   ]
  },
  {
   "cell_type": "code",
   "execution_count": null,
   "metadata": {},
   "outputs": [],
   "source": [
    "# Inspect aea projection parameters\n",
    "pprint(espa.projections['aea'])\n",
    "# Define projection parameters\n",
    "proj_params = {'aea': {'central_meridian': 3.8,\n",
    "                       'datum': 'wgs84',\n",
    "                       'false_easting': 0,\n",
    "                       'false_northing': 0,\n",
    "                       'latitude_of_origin': 43.7,\n",
    "                       'standard_parallel_1': 43,\n",
    "                       'standard_parallel_2': 44}}\n",
    "# Place order\n",
    "order_meta = espa.order(scene_list=scene_list, products=['et', 'sr', 'pixel_qa', 'sr_nbr2', 'sr_evi', 'source_metadata', 'stats'],\n",
    "                        note='cropped order with resampling', projection=proj_params,\n",
    "                        extent=bbox, resolution=60)"
   ]
  },
  {
   "cell_type": "code",
   "execution_count": null,
   "metadata": {},
   "outputs": [],
   "source": []
  },
  {
   "cell_type": "code",
   "execution_count": null,
   "metadata": {},
   "outputs": [],
   "source": []
  },
  {
   "cell_type": "code",
   "execution_count": null,
   "metadata": {},
   "outputs": [],
   "source": []
  },
  {
   "cell_type": "markdown",
   "metadata": {},
   "source": [
    "#### below is the lower level api, lsru is an easier package to work with, but this might be needed later."
   ]
  },
  {
   "cell_type": "code",
   "execution_count": null,
   "metadata": {},
   "outputs": [],
   "source": [
    "import platform\n",
    "print(platform.python_version())\n",
    "import requests\n",
    "import json\n",
    "import getpass\n",
    "host = 'https://espa.cr.usgs.gov/api/v1/'\n",
    "\n",
    "\n",
    "\n",
    "username = 'rbavery'\n",
    "password = getpass.getpass()\n",
    "\n",
    "def espa_api(endpoint, verb='get', body=None, uauth=None):\n",
    "    \"\"\" Suggested simple way to interact with the ESPA JSON REST API \"\"\"\n",
    "    auth_tup = uauth if uauth else (username, password)\n",
    "    response = getattr(requests, verb)(host + endpoint, auth=auth_tup, json=body)\n",
    "    print('{} {}'.format(response.status_code, response.reason))\n",
    "    data = response.json()\n",
    "    if isinstance(data, dict):\n",
    "        messages = data.pop(\"messages\", None)  \n",
    "        if messages:\n",
    "            print(json.dumps(messages, indent=4))\n",
    "    try:\n",
    "        response.raise_for_status()\n",
    "    except Exception as e:\n",
    "        print(e)\n",
    "        return None\n",
    "    else:\n",
    "        return data"
   ]
  },
  {
   "cell_type": "code",
   "execution_count": null,
   "metadata": {},
   "outputs": [],
   "source": [
    "print('GET /api/v1/user')\n",
    "resp = espa_api('user')\n",
    "print(json.dumps(resp, indent=4))"
   ]
  },
  {
   "cell_type": "code",
   "execution_count": null,
   "metadata": {},
   "outputs": [],
   "source": [
    "print('GET /api/v1/available-products')\n",
    "avail_list = {'inputs': ['LC08_L1TP_197030_20130416_20170505_01_T1'\n",
    "                        ]\n",
    "             }\n",
    "resp = espa_api('available-products', body=avail_list)\n",
    "print(json.dumps(resp, indent=4))"
   ]
  },
  {
   "cell_type": "code",
   "execution_count": null,
   "metadata": {},
   "outputs": [],
   "source": [
    "print('GET /api/v1/projections')\n",
    "projs = espa_api('projections')\n",
    "print(projs.keys())"
   ]
  },
  {
   "cell_type": "code",
   "execution_count": null,
   "metadata": {},
   "outputs": [],
   "source": [
    "print(json.dumps(projs['utm']['properties'], indent=4))"
   ]
  },
  {
   "cell_type": "code",
   "execution_count": null,
   "metadata": {},
   "outputs": [],
   "source": [
    "l8_ls = ['LC08_L1TP_029030_20161109_20170219_01_T1',\n",
    "         'LC08_L1TP_029030_20160821_20170222_01_T1',\n",
    "         'LC08_L1TP_029030_20130712_20170309_01_T1']\n",
    "l7_ls =['LE07_L1TP_029030_20170221_20170319_01_T1',\n",
    "        'LE07_L1TP_029030_20161101_20161127_01_T1',\n",
    "        'LE07_L1TP_029030_20130602_20160908_01_T1']\n",
    "\n",
    "# Differing products across the sensors\n",
    "l7_prods = ['toa', 'bt']\n",
    "l8_prods = ['sr']\n",
    "\n",
    "# Standard Albers CONUS\n",
    "projection = {'aea': {'standard_parallel_1': 29.5,\n",
    "                      'standard_parallel_2': 45.5,\n",
    "                      'central_meridian': -96.0,\n",
    "                      'latitude_of_origin': 23.0,\n",
    "                      'false_easting': 0,\n",
    "                      'false_northing': 0,\n",
    "                      'datum': 'nad83'}}\n",
    "\n",
    "# Let available-products place the acquisitions under their respective sensors\n",
    "ls = l8_ls + l7_ls\n",
    "\n",
    "print('GET /api/v1/available-products')\n",
    "order = espa_api('available-products', body=dict(inputs=ls))\n",
    "print(json.dumps(order, indent=4))"
   ]
  },
  {
   "cell_type": "code",
   "execution_count": null,
   "metadata": {},
   "outputs": [],
   "source": [
    "# Replace the available products that was returned with what we want\n",
    "for sensor in order.keys():\n",
    "    if isinstance(order[sensor], dict) and order[sensor].get('inputs'):\n",
    "        if set(l7_ls) & set(order[sensor]['inputs']):\n",
    "            order[sensor]['products'] = l7_prods\n",
    "        if set(l8_ls) & set(order[sensor]['inputs']):\n",
    "            order[sensor]['products'] = l8_prods\n",
    "\n",
    "# Add in the rest of the order information\n",
    "order['projection'] = projection\n",
    "order['format'] = 'gtiff'\n",
    "order['resampling_method'] = 'cc'\n",
    "order['note'] = 'API Demo Jupyter!!'\n",
    "\n",
    "# Notice how it has changed from the original call available-products\n",
    "print(json.dumps(order, indent=4))"
   ]
  },
  {
   "cell_type": "code",
   "execution_count": null,
   "metadata": {},
   "outputs": [],
   "source": [
    "# Place the order\n",
    "print('POST /api/v1/order')\n",
    "resp = espa_api('order', verb='post', body=order)\n",
    "print(json.dumps(resp, indent=4))"
   ]
  },
  {
   "cell_type": "code",
   "execution_count": null,
   "metadata": {},
   "outputs": [],
   "source": [
    "resp['orderid']"
   ]
  },
  {
   "cell_type": "code",
   "execution_count": null,
   "metadata": {},
   "outputs": [],
   "source": [
    "print('GET /api/v1/order-status/{}'.format(orderid))\n",
    "resp = espa_api('order-status/{}'.format(orderid))\n",
    "print(json.dumps(resp, indent=4))"
   ]
  },
  {
   "cell_type": "code",
   "execution_count": null,
   "metadata": {},
   "outputs": [],
   "source": [
    "print('GET /api/v1/item-status/{0}'.format(orderid))\n",
    "resp = espa_api('item-status/{0}'.format(orderid), body={'status': 'complete'})\n",
    "print(json.dumps(resp[orderid], indent=4))"
   ]
  },
  {
   "cell_type": "code",
   "execution_count": null,
   "metadata": {},
   "outputs": [],
   "source": [
    "# Once the order is completed or partially completed, can get the download url's\n",
    "for item in resp[orderid]:\n",
    "    print(\"URL: {0}\".format(item.get('product_dload_url')))"
   ]
  }
 ],
 "metadata": {
  "kernelspec": {
   "display_name": "geo",
   "language": "python",
   "name": "geo"
  },
  "language_info": {
   "codemirror_mode": {
    "name": "ipython",
    "version": 3
   },
   "file_extension": ".py",
   "mimetype": "text/x-python",
   "name": "python",
   "nbconvert_exporter": "python",
   "pygments_lexer": "ipython3",
   "version": "3.6.7"
  }
 },
 "nbformat": 4,
 "nbformat_minor": 4
}
